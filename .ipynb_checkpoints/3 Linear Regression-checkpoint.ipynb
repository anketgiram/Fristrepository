{
 "cells": [
  {
   "cell_type": "markdown",
   "id": "5f71060c",
   "metadata": {},
   "source": [
    "### Import Liabraries"
   ]
  },
  {
   "cell_type": "code",
   "execution_count": 1,
   "id": "54558564",
   "metadata": {},
   "outputs": [],
   "source": [
    "import pandas as pd\n",
    "import numpy as np\n",
    "\n",
    "from sklearn.linear_model import LinearRegression        #  >> importing LinearRegression model\n",
    "from sklearn.model_selection import train_test_split     #  >> for spliting data into two sets for model train and testing\n",
    "\n",
    "from sklearn.metrics import mean_squared_error, mean_absolute_error, r2_score\n",
    "from statsmodels.stats.outliers_influence import variance_inflation_factor      # >> we import vif from statsmodels\n",
    "\n",
    "import matplotlib.pyplot as plt     # >> for visualization we use matplotlib.pyplot and seaborn\n",
    "import seaborn as sns\n",
    "import pickle"
   ]
  },
  {
   "cell_type": "markdown",
   "id": "988860a2",
   "metadata": {},
   "source": [
    "### Problem Statement"
   ]
  },
  {
   "cell_type": "raw",
   "id": "0b994f71",
   "metadata": {},
   "source": [
    "Predict to sepalLength by using following Independent variables.\n",
    "\n",
    "Dependent var : SepalLengthCm\n",
    "Independent var :\n",
    "      1. SepalWidthCm\n",
    "      2. PetalLengthCm \n",
    "      3. PetalWidthCm\n",
    "      4. Species"
   ]
  },
  {
   "cell_type": "markdown",
   "id": "c2c270d9",
   "metadata": {},
   "source": [
    "### Data Gathering"
   ]
  },
  {
   "cell_type": "code",
   "execution_count": 2,
   "id": "b3aa0a99",
   "metadata": {
    "scrolled": false
   },
   "outputs": [
    {
     "data": {
      "text/html": [
       "<div>\n",
       "<style scoped>\n",
       "    .dataframe tbody tr th:only-of-type {\n",
       "        vertical-align: middle;\n",
       "    }\n",
       "\n",
       "    .dataframe tbody tr th {\n",
       "        vertical-align: top;\n",
       "    }\n",
       "\n",
       "    .dataframe thead th {\n",
       "        text-align: right;\n",
       "    }\n",
       "</style>\n",
       "<table border=\"1\" class=\"dataframe\">\n",
       "  <thead>\n",
       "    <tr style=\"text-align: right;\">\n",
       "      <th></th>\n",
       "      <th>Id</th>\n",
       "      <th>SepalLengthCm</th>\n",
       "      <th>SepalWidthCm</th>\n",
       "      <th>PetalLengthCm</th>\n",
       "      <th>PetalWidthCm</th>\n",
       "      <th>Species</th>\n",
       "    </tr>\n",
       "  </thead>\n",
       "  <tbody>\n",
       "    <tr>\n",
       "      <th>0</th>\n",
       "      <td>1</td>\n",
       "      <td>5.1</td>\n",
       "      <td>3.5</td>\n",
       "      <td>1.4</td>\n",
       "      <td>0.2</td>\n",
       "      <td>Iris-setosa</td>\n",
       "    </tr>\n",
       "    <tr>\n",
       "      <th>1</th>\n",
       "      <td>2</td>\n",
       "      <td>4.9</td>\n",
       "      <td>3.0</td>\n",
       "      <td>1.4</td>\n",
       "      <td>0.2</td>\n",
       "      <td>Iris-setosa</td>\n",
       "    </tr>\n",
       "    <tr>\n",
       "      <th>2</th>\n",
       "      <td>3</td>\n",
       "      <td>4.7</td>\n",
       "      <td>3.2</td>\n",
       "      <td>1.3</td>\n",
       "      <td>0.2</td>\n",
       "      <td>Iris-setosa</td>\n",
       "    </tr>\n",
       "    <tr>\n",
       "      <th>3</th>\n",
       "      <td>4</td>\n",
       "      <td>4.6</td>\n",
       "      <td>3.1</td>\n",
       "      <td>1.5</td>\n",
       "      <td>0.2</td>\n",
       "      <td>Iris-setosa</td>\n",
       "    </tr>\n",
       "    <tr>\n",
       "      <th>4</th>\n",
       "      <td>5</td>\n",
       "      <td>5.0</td>\n",
       "      <td>3.6</td>\n",
       "      <td>1.4</td>\n",
       "      <td>0.2</td>\n",
       "      <td>Iris-setosa</td>\n",
       "    </tr>\n",
       "    <tr>\n",
       "      <th>...</th>\n",
       "      <td>...</td>\n",
       "      <td>...</td>\n",
       "      <td>...</td>\n",
       "      <td>...</td>\n",
       "      <td>...</td>\n",
       "      <td>...</td>\n",
       "    </tr>\n",
       "    <tr>\n",
       "      <th>145</th>\n",
       "      <td>146</td>\n",
       "      <td>6.7</td>\n",
       "      <td>3.0</td>\n",
       "      <td>5.2</td>\n",
       "      <td>2.3</td>\n",
       "      <td>Iris-virginica</td>\n",
       "    </tr>\n",
       "    <tr>\n",
       "      <th>146</th>\n",
       "      <td>147</td>\n",
       "      <td>6.3</td>\n",
       "      <td>2.5</td>\n",
       "      <td>5.0</td>\n",
       "      <td>1.9</td>\n",
       "      <td>Iris-virginica</td>\n",
       "    </tr>\n",
       "    <tr>\n",
       "      <th>147</th>\n",
       "      <td>148</td>\n",
       "      <td>6.5</td>\n",
       "      <td>3.0</td>\n",
       "      <td>5.2</td>\n",
       "      <td>2.0</td>\n",
       "      <td>Iris-virginica</td>\n",
       "    </tr>\n",
       "    <tr>\n",
       "      <th>148</th>\n",
       "      <td>149</td>\n",
       "      <td>6.2</td>\n",
       "      <td>3.4</td>\n",
       "      <td>5.4</td>\n",
       "      <td>2.3</td>\n",
       "      <td>Iris-virginica</td>\n",
       "    </tr>\n",
       "    <tr>\n",
       "      <th>149</th>\n",
       "      <td>150</td>\n",
       "      <td>5.9</td>\n",
       "      <td>3.0</td>\n",
       "      <td>5.1</td>\n",
       "      <td>1.8</td>\n",
       "      <td>Iris-virginica</td>\n",
       "    </tr>\n",
       "  </tbody>\n",
       "</table>\n",
       "<p>150 rows × 6 columns</p>\n",
       "</div>"
      ],
      "text/plain": [
       "      Id  SepalLengthCm  SepalWidthCm  PetalLengthCm  PetalWidthCm  \\\n",
       "0      1            5.1           3.5            1.4           0.2   \n",
       "1      2            4.9           3.0            1.4           0.2   \n",
       "2      3            4.7           3.2            1.3           0.2   \n",
       "3      4            4.6           3.1            1.5           0.2   \n",
       "4      5            5.0           3.6            1.4           0.2   \n",
       "..   ...            ...           ...            ...           ...   \n",
       "145  146            6.7           3.0            5.2           2.3   \n",
       "146  147            6.3           2.5            5.0           1.9   \n",
       "147  148            6.5           3.0            5.2           2.0   \n",
       "148  149            6.2           3.4            5.4           2.3   \n",
       "149  150            5.9           3.0            5.1           1.8   \n",
       "\n",
       "            Species  \n",
       "0       Iris-setosa  \n",
       "1       Iris-setosa  \n",
       "2       Iris-setosa  \n",
       "3       Iris-setosa  \n",
       "4       Iris-setosa  \n",
       "..              ...  \n",
       "145  Iris-virginica  \n",
       "146  Iris-virginica  \n",
       "147  Iris-virginica  \n",
       "148  Iris-virginica  \n",
       "149  Iris-virginica  \n",
       "\n",
       "[150 rows x 6 columns]"
      ]
     },
     "execution_count": 2,
     "metadata": {},
     "output_type": "execute_result"
    }
   ],
   "source": [
    "df = pd.read_csv(\"Iris.csv\")\n",
    "df"
   ]
  },
  {
   "cell_type": "markdown",
   "id": "71d847a8",
   "metadata": {},
   "source": [
    "### Exporatory Data Analysis"
   ]
  },
  {
   "cell_type": "code",
   "execution_count": 3,
   "id": "75c8302a",
   "metadata": {},
   "outputs": [
    {
     "name": "stdout",
     "output_type": "stream",
     "text": [
      "<class 'pandas.core.frame.DataFrame'>\n",
      "RangeIndex: 150 entries, 0 to 149\n",
      "Data columns (total 6 columns):\n",
      " #   Column         Non-Null Count  Dtype  \n",
      "---  ------         --------------  -----  \n",
      " 0   Id             150 non-null    int64  \n",
      " 1   SepalLengthCm  150 non-null    float64\n",
      " 2   SepalWidthCm   150 non-null    float64\n",
      " 3   PetalLengthCm  150 non-null    float64\n",
      " 4   PetalWidthCm   150 non-null    float64\n",
      " 5   Species        150 non-null    object \n",
      "dtypes: float64(4), int64(1), object(1)\n",
      "memory usage: 7.2+ KB\n"
     ]
    }
   ],
   "source": [
    "df.info()"
   ]
  },
  {
   "cell_type": "code",
   "execution_count": 4,
   "id": "2e53161c",
   "metadata": {},
   "outputs": [
    {
     "data": {
      "text/plain": [
       "Index(['Id', 'SepalLengthCm', 'SepalWidthCm', 'PetalLengthCm', 'PetalWidthCm',\n",
       "       'Species'],\n",
       "      dtype='object')"
      ]
     },
     "execution_count": 4,
     "metadata": {},
     "output_type": "execute_result"
    }
   ],
   "source": [
    "df.columns"
   ]
  },
  {
   "cell_type": "markdown",
   "id": "ea265b7d",
   "metadata": {},
   "source": [
    "#### 1. Id"
   ]
  },
  {
   "cell_type": "code",
   "execution_count": 5,
   "id": "b669b915",
   "metadata": {},
   "outputs": [
    {
     "data": {
      "text/plain": [
       "0        1\n",
       "1        2\n",
       "2        3\n",
       "3        4\n",
       "4        5\n",
       "      ... \n",
       "145    146\n",
       "146    147\n",
       "147    148\n",
       "148    149\n",
       "149    150\n",
       "Name: Id, Length: 150, dtype: int64"
      ]
     },
     "execution_count": 5,
     "metadata": {},
     "output_type": "execute_result"
    }
   ],
   "source": [
    "df[\"Id\"]"
   ]
  },
  {
   "cell_type": "code",
   "execution_count": 6,
   "id": "d3ea1a1f",
   "metadata": {},
   "outputs": [
    {
     "data": {
      "text/plain": [
       "150"
      ]
     },
     "execution_count": 6,
     "metadata": {},
     "output_type": "execute_result"
    }
   ],
   "source": [
    "df[\"Id\"].nunique()\n",
    "\n",
    "\n",
    "# to check the number of unique values in id column \n",
    "# we can not able to do analaysis for table which have the unique data  "
   ]
  },
  {
   "cell_type": "markdown",
   "id": "d038898b",
   "metadata": {},
   "source": [
    "### 2. SepalWidthCm"
   ]
  },
  {
   "cell_type": "code",
   "execution_count": 7,
   "id": "40c1abab",
   "metadata": {},
   "outputs": [
    {
     "data": {
      "text/plain": [
       "0      3.5\n",
       "1      3.0\n",
       "2      3.2\n",
       "3      3.1\n",
       "4      3.6\n",
       "      ... \n",
       "145    3.0\n",
       "146    2.5\n",
       "147    3.0\n",
       "148    3.4\n",
       "149    3.0\n",
       "Name: SepalWidthCm, Length: 150, dtype: float64"
      ]
     },
     "execution_count": 7,
     "metadata": {},
     "output_type": "execute_result"
    }
   ],
   "source": [
    "df[\"SepalWidthCm\"]"
   ]
  },
  {
   "cell_type": "code",
   "execution_count": 8,
   "id": "70961480",
   "metadata": {},
   "outputs": [
    {
     "data": {
      "text/plain": [
       "23"
      ]
     },
     "execution_count": 8,
     "metadata": {},
     "output_type": "execute_result"
    }
   ],
   "source": [
    "df[\"SepalWidthCm\"].nunique()"
   ]
  },
  {
   "cell_type": "code",
   "execution_count": 9,
   "id": "36f2ccb5",
   "metadata": {},
   "outputs": [
    {
     "data": {
      "text/plain": [
       "0"
      ]
     },
     "execution_count": 9,
     "metadata": {},
     "output_type": "execute_result"
    }
   ],
   "source": [
    "df[\"SepalWidthCm\"].isnull().sum()"
   ]
  },
  {
   "cell_type": "markdown",
   "id": "80dfd8fd",
   "metadata": {},
   "source": [
    "### 3.PetalLengthCm"
   ]
  },
  {
   "cell_type": "code",
   "execution_count": 10,
   "id": "2797f081",
   "metadata": {},
   "outputs": [
    {
     "data": {
      "text/plain": [
       "0      1.4\n",
       "1      1.4\n",
       "2      1.3\n",
       "3      1.5\n",
       "4      1.4\n",
       "      ... \n",
       "145    5.2\n",
       "146    5.0\n",
       "147    5.2\n",
       "148    5.4\n",
       "149    5.1\n",
       "Name: PetalLengthCm, Length: 150, dtype: float64"
      ]
     },
     "execution_count": 10,
     "metadata": {},
     "output_type": "execute_result"
    }
   ],
   "source": [
    "df[\"PetalLengthCm\"]"
   ]
  },
  {
   "cell_type": "code",
   "execution_count": 11,
   "id": "e2176593",
   "metadata": {},
   "outputs": [
    {
     "data": {
      "text/plain": [
       "43"
      ]
     },
     "execution_count": 11,
     "metadata": {},
     "output_type": "execute_result"
    }
   ],
   "source": [
    "df[\"PetalLengthCm\"].nunique()"
   ]
  },
  {
   "cell_type": "code",
   "execution_count": 12,
   "id": "e974101f",
   "metadata": {},
   "outputs": [
    {
     "data": {
      "text/plain": [
       "0"
      ]
     },
     "execution_count": 12,
     "metadata": {},
     "output_type": "execute_result"
    }
   ],
   "source": [
    "df[\"PetalLengthCm\"].isnull().sum()"
   ]
  },
  {
   "cell_type": "markdown",
   "id": "1f817b9b",
   "metadata": {},
   "source": [
    "### 4. PetalWidthCm"
   ]
  },
  {
   "cell_type": "code",
   "execution_count": 13,
   "id": "f0a81db1",
   "metadata": {},
   "outputs": [
    {
     "data": {
      "text/plain": [
       "0      0.2\n",
       "1      0.2\n",
       "2      0.2\n",
       "3      0.2\n",
       "4      0.2\n",
       "      ... \n",
       "145    2.3\n",
       "146    1.9\n",
       "147    2.0\n",
       "148    2.3\n",
       "149    1.8\n",
       "Name: PetalWidthCm, Length: 150, dtype: float64"
      ]
     },
     "execution_count": 13,
     "metadata": {},
     "output_type": "execute_result"
    }
   ],
   "source": [
    "df[\"PetalWidthCm\"]"
   ]
  },
  {
   "cell_type": "code",
   "execution_count": 14,
   "id": "0fb2859d",
   "metadata": {},
   "outputs": [
    {
     "data": {
      "text/plain": [
       "22"
      ]
     },
     "execution_count": 14,
     "metadata": {},
     "output_type": "execute_result"
    }
   ],
   "source": [
    "df[\"PetalWidthCm\"].nunique()"
   ]
  },
  {
   "cell_type": "code",
   "execution_count": 15,
   "id": "bbecc840",
   "metadata": {},
   "outputs": [
    {
     "data": {
      "text/plain": [
       "0"
      ]
     },
     "execution_count": 15,
     "metadata": {},
     "output_type": "execute_result"
    }
   ],
   "source": [
    "df[\"PetalWidthCm\"].isnull().sum()"
   ]
  },
  {
   "cell_type": "markdown",
   "id": "0cf9be35",
   "metadata": {},
   "source": [
    "### 5. Species"
   ]
  },
  {
   "cell_type": "code",
   "execution_count": 16,
   "id": "314814d1",
   "metadata": {},
   "outputs": [
    {
     "data": {
      "text/plain": [
       "0         Iris-setosa\n",
       "1         Iris-setosa\n",
       "2         Iris-setosa\n",
       "3         Iris-setosa\n",
       "4         Iris-setosa\n",
       "            ...      \n",
       "145    Iris-virginica\n",
       "146    Iris-virginica\n",
       "147    Iris-virginica\n",
       "148    Iris-virginica\n",
       "149    Iris-virginica\n",
       "Name: Species, Length: 150, dtype: object"
      ]
     },
     "execution_count": 16,
     "metadata": {},
     "output_type": "execute_result"
    }
   ],
   "source": [
    "df[\"Species\"]"
   ]
  },
  {
   "cell_type": "code",
   "execution_count": 17,
   "id": "2d14375f",
   "metadata": {},
   "outputs": [
    {
     "data": {
      "text/plain": [
       "3"
      ]
     },
     "execution_count": 17,
     "metadata": {},
     "output_type": "execute_result"
    }
   ],
   "source": [
    "df[\"Species\"].nunique()"
   ]
  },
  {
   "cell_type": "code",
   "execution_count": 18,
   "id": "c3ee6e00",
   "metadata": {},
   "outputs": [
    {
     "data": {
      "text/plain": [
       "0"
      ]
     },
     "execution_count": 18,
     "metadata": {},
     "output_type": "execute_result"
    }
   ],
   "source": [
    "df[\"Species\"].isnull().sum()"
   ]
  },
  {
   "cell_type": "code",
   "execution_count": 19,
   "id": "6a9178f0",
   "metadata": {},
   "outputs": [
    {
     "data": {
      "text/plain": [
       "Species\n",
       "Iris-setosa        50\n",
       "Iris-versicolor    50\n",
       "Iris-virginica     50\n",
       "Name: count, dtype: int64"
      ]
     },
     "execution_count": 19,
     "metadata": {},
     "output_type": "execute_result"
    }
   ],
   "source": [
    "df[\"Species\"].value_counts()"
   ]
  },
  {
   "cell_type": "code",
   "execution_count": 20,
   "id": "fcc44e8d",
   "metadata": {},
   "outputs": [],
   "source": [
    "# this column is having object datatype. So we have to encode this column "
   ]
  },
  {
   "cell_type": "code",
   "execution_count": 21,
   "id": "1fcbff8a",
   "metadata": {},
   "outputs": [
    {
     "data": {
      "text/html": [
       "<div>\n",
       "<style scoped>\n",
       "    .dataframe tbody tr th:only-of-type {\n",
       "        vertical-align: middle;\n",
       "    }\n",
       "\n",
       "    .dataframe tbody tr th {\n",
       "        vertical-align: top;\n",
       "    }\n",
       "\n",
       "    .dataframe thead th {\n",
       "        text-align: right;\n",
       "    }\n",
       "</style>\n",
       "<table border=\"1\" class=\"dataframe\">\n",
       "  <thead>\n",
       "    <tr style=\"text-align: right;\">\n",
       "      <th></th>\n",
       "      <th>Id</th>\n",
       "      <th>SepalLengthCm</th>\n",
       "      <th>SepalWidthCm</th>\n",
       "      <th>PetalLengthCm</th>\n",
       "      <th>PetalWidthCm</th>\n",
       "      <th>Species</th>\n",
       "    </tr>\n",
       "  </thead>\n",
       "  <tbody>\n",
       "    <tr>\n",
       "      <th>0</th>\n",
       "      <td>1</td>\n",
       "      <td>5.1</td>\n",
       "      <td>3.5</td>\n",
       "      <td>1.4</td>\n",
       "      <td>0.2</td>\n",
       "      <td>Iris-setosa</td>\n",
       "    </tr>\n",
       "    <tr>\n",
       "      <th>1</th>\n",
       "      <td>2</td>\n",
       "      <td>4.9</td>\n",
       "      <td>3.0</td>\n",
       "      <td>1.4</td>\n",
       "      <td>0.2</td>\n",
       "      <td>Iris-setosa</td>\n",
       "    </tr>\n",
       "    <tr>\n",
       "      <th>2</th>\n",
       "      <td>3</td>\n",
       "      <td>4.7</td>\n",
       "      <td>3.2</td>\n",
       "      <td>1.3</td>\n",
       "      <td>0.2</td>\n",
       "      <td>Iris-setosa</td>\n",
       "    </tr>\n",
       "    <tr>\n",
       "      <th>3</th>\n",
       "      <td>4</td>\n",
       "      <td>4.6</td>\n",
       "      <td>3.1</td>\n",
       "      <td>1.5</td>\n",
       "      <td>0.2</td>\n",
       "      <td>Iris-setosa</td>\n",
       "    </tr>\n",
       "    <tr>\n",
       "      <th>4</th>\n",
       "      <td>5</td>\n",
       "      <td>5.0</td>\n",
       "      <td>3.6</td>\n",
       "      <td>1.4</td>\n",
       "      <td>0.2</td>\n",
       "      <td>Iris-setosa</td>\n",
       "    </tr>\n",
       "    <tr>\n",
       "      <th>...</th>\n",
       "      <td>...</td>\n",
       "      <td>...</td>\n",
       "      <td>...</td>\n",
       "      <td>...</td>\n",
       "      <td>...</td>\n",
       "      <td>...</td>\n",
       "    </tr>\n",
       "    <tr>\n",
       "      <th>145</th>\n",
       "      <td>146</td>\n",
       "      <td>6.7</td>\n",
       "      <td>3.0</td>\n",
       "      <td>5.2</td>\n",
       "      <td>2.3</td>\n",
       "      <td>Iris-virginica</td>\n",
       "    </tr>\n",
       "    <tr>\n",
       "      <th>146</th>\n",
       "      <td>147</td>\n",
       "      <td>6.3</td>\n",
       "      <td>2.5</td>\n",
       "      <td>5.0</td>\n",
       "      <td>1.9</td>\n",
       "      <td>Iris-virginica</td>\n",
       "    </tr>\n",
       "    <tr>\n",
       "      <th>147</th>\n",
       "      <td>148</td>\n",
       "      <td>6.5</td>\n",
       "      <td>3.0</td>\n",
       "      <td>5.2</td>\n",
       "      <td>2.0</td>\n",
       "      <td>Iris-virginica</td>\n",
       "    </tr>\n",
       "    <tr>\n",
       "      <th>148</th>\n",
       "      <td>149</td>\n",
       "      <td>6.2</td>\n",
       "      <td>3.4</td>\n",
       "      <td>5.4</td>\n",
       "      <td>2.3</td>\n",
       "      <td>Iris-virginica</td>\n",
       "    </tr>\n",
       "    <tr>\n",
       "      <th>149</th>\n",
       "      <td>150</td>\n",
       "      <td>5.9</td>\n",
       "      <td>3.0</td>\n",
       "      <td>5.1</td>\n",
       "      <td>1.8</td>\n",
       "      <td>Iris-virginica</td>\n",
       "    </tr>\n",
       "  </tbody>\n",
       "</table>\n",
       "<p>150 rows × 6 columns</p>\n",
       "</div>"
      ],
      "text/plain": [
       "      Id  SepalLengthCm  SepalWidthCm  PetalLengthCm  PetalWidthCm  \\\n",
       "0      1            5.1           3.5            1.4           0.2   \n",
       "1      2            4.9           3.0            1.4           0.2   \n",
       "2      3            4.7           3.2            1.3           0.2   \n",
       "3      4            4.6           3.1            1.5           0.2   \n",
       "4      5            5.0           3.6            1.4           0.2   \n",
       "..   ...            ...           ...            ...           ...   \n",
       "145  146            6.7           3.0            5.2           2.3   \n",
       "146  147            6.3           2.5            5.0           1.9   \n",
       "147  148            6.5           3.0            5.2           2.0   \n",
       "148  149            6.2           3.4            5.4           2.3   \n",
       "149  150            5.9           3.0            5.1           1.8   \n",
       "\n",
       "            Species  \n",
       "0       Iris-setosa  \n",
       "1       Iris-setosa  \n",
       "2       Iris-setosa  \n",
       "3       Iris-setosa  \n",
       "4       Iris-setosa  \n",
       "..              ...  \n",
       "145  Iris-virginica  \n",
       "146  Iris-virginica  \n",
       "147  Iris-virginica  \n",
       "148  Iris-virginica  \n",
       "149  Iris-virginica  \n",
       "\n",
       "[150 rows x 6 columns]"
      ]
     },
     "execution_count": 21,
     "metadata": {},
     "output_type": "execute_result"
    }
   ],
   "source": [
    "df"
   ]
  },
  {
   "cell_type": "markdown",
   "id": "828e7ada",
   "metadata": {},
   "source": [
    "### Feature Enginerring"
   ]
  },
  {
   "cell_type": "code",
   "execution_count": 22,
   "id": "c952d157",
   "metadata": {},
   "outputs": [],
   "source": [
    "df.drop(\"Id\", axis = 1, inplace = True)"
   ]
  },
  {
   "cell_type": "code",
   "execution_count": 23,
   "id": "b8501a51",
   "metadata": {},
   "outputs": [
    {
     "data": {
      "text/plain": [
       "{'Iris-setosa': 50, 'Iris-versicolor': 50, 'Iris-virginica': 50}"
      ]
     },
     "execution_count": 23,
     "metadata": {},
     "output_type": "execute_result"
    }
   ],
   "source": [
    "df[\"Species\"].value_counts().to_dict()"
   ]
  },
  {
   "cell_type": "code",
   "execution_count": 24,
   "id": "80b516e5",
   "metadata": {},
   "outputs": [],
   "source": [
    "df[\"Species\"].replace({\"Iris-setosa\" :0, \"Iris-versicolor\" : 1, \"Iris-virginica\" : 2}, inplace = True)"
   ]
  },
  {
   "cell_type": "code",
   "execution_count": 25,
   "id": "cdcd58d9",
   "metadata": {},
   "outputs": [
    {
     "data": {
      "text/html": [
       "<div>\n",
       "<style scoped>\n",
       "    .dataframe tbody tr th:only-of-type {\n",
       "        vertical-align: middle;\n",
       "    }\n",
       "\n",
       "    .dataframe tbody tr th {\n",
       "        vertical-align: top;\n",
       "    }\n",
       "\n",
       "    .dataframe thead th {\n",
       "        text-align: right;\n",
       "    }\n",
       "</style>\n",
       "<table border=\"1\" class=\"dataframe\">\n",
       "  <thead>\n",
       "    <tr style=\"text-align: right;\">\n",
       "      <th></th>\n",
       "      <th>SepalLengthCm</th>\n",
       "      <th>SepalWidthCm</th>\n",
       "      <th>PetalLengthCm</th>\n",
       "      <th>PetalWidthCm</th>\n",
       "      <th>Species</th>\n",
       "    </tr>\n",
       "  </thead>\n",
       "  <tbody>\n",
       "    <tr>\n",
       "      <th>0</th>\n",
       "      <td>5.1</td>\n",
       "      <td>3.5</td>\n",
       "      <td>1.4</td>\n",
       "      <td>0.2</td>\n",
       "      <td>0</td>\n",
       "    </tr>\n",
       "    <tr>\n",
       "      <th>1</th>\n",
       "      <td>4.9</td>\n",
       "      <td>3.0</td>\n",
       "      <td>1.4</td>\n",
       "      <td>0.2</td>\n",
       "      <td>0</td>\n",
       "    </tr>\n",
       "    <tr>\n",
       "      <th>2</th>\n",
       "      <td>4.7</td>\n",
       "      <td>3.2</td>\n",
       "      <td>1.3</td>\n",
       "      <td>0.2</td>\n",
       "      <td>0</td>\n",
       "    </tr>\n",
       "    <tr>\n",
       "      <th>3</th>\n",
       "      <td>4.6</td>\n",
       "      <td>3.1</td>\n",
       "      <td>1.5</td>\n",
       "      <td>0.2</td>\n",
       "      <td>0</td>\n",
       "    </tr>\n",
       "    <tr>\n",
       "      <th>4</th>\n",
       "      <td>5.0</td>\n",
       "      <td>3.6</td>\n",
       "      <td>1.4</td>\n",
       "      <td>0.2</td>\n",
       "      <td>0</td>\n",
       "    </tr>\n",
       "    <tr>\n",
       "      <th>...</th>\n",
       "      <td>...</td>\n",
       "      <td>...</td>\n",
       "      <td>...</td>\n",
       "      <td>...</td>\n",
       "      <td>...</td>\n",
       "    </tr>\n",
       "    <tr>\n",
       "      <th>145</th>\n",
       "      <td>6.7</td>\n",
       "      <td>3.0</td>\n",
       "      <td>5.2</td>\n",
       "      <td>2.3</td>\n",
       "      <td>2</td>\n",
       "    </tr>\n",
       "    <tr>\n",
       "      <th>146</th>\n",
       "      <td>6.3</td>\n",
       "      <td>2.5</td>\n",
       "      <td>5.0</td>\n",
       "      <td>1.9</td>\n",
       "      <td>2</td>\n",
       "    </tr>\n",
       "    <tr>\n",
       "      <th>147</th>\n",
       "      <td>6.5</td>\n",
       "      <td>3.0</td>\n",
       "      <td>5.2</td>\n",
       "      <td>2.0</td>\n",
       "      <td>2</td>\n",
       "    </tr>\n",
       "    <tr>\n",
       "      <th>148</th>\n",
       "      <td>6.2</td>\n",
       "      <td>3.4</td>\n",
       "      <td>5.4</td>\n",
       "      <td>2.3</td>\n",
       "      <td>2</td>\n",
       "    </tr>\n",
       "    <tr>\n",
       "      <th>149</th>\n",
       "      <td>5.9</td>\n",
       "      <td>3.0</td>\n",
       "      <td>5.1</td>\n",
       "      <td>1.8</td>\n",
       "      <td>2</td>\n",
       "    </tr>\n",
       "  </tbody>\n",
       "</table>\n",
       "<p>150 rows × 5 columns</p>\n",
       "</div>"
      ],
      "text/plain": [
       "     SepalLengthCm  SepalWidthCm  PetalLengthCm  PetalWidthCm  Species\n",
       "0              5.1           3.5            1.4           0.2        0\n",
       "1              4.9           3.0            1.4           0.2        0\n",
       "2              4.7           3.2            1.3           0.2        0\n",
       "3              4.6           3.1            1.5           0.2        0\n",
       "4              5.0           3.6            1.4           0.2        0\n",
       "..             ...           ...            ...           ...      ...\n",
       "145            6.7           3.0            5.2           2.3        2\n",
       "146            6.3           2.5            5.0           1.9        2\n",
       "147            6.5           3.0            5.2           2.0        2\n",
       "148            6.2           3.4            5.4           2.3        2\n",
       "149            5.9           3.0            5.1           1.8        2\n",
       "\n",
       "[150 rows x 5 columns]"
      ]
     },
     "execution_count": 25,
     "metadata": {},
     "output_type": "execute_result"
    }
   ],
   "source": [
    "df"
   ]
  },
  {
   "cell_type": "code",
   "execution_count": 26,
   "id": "bff6e21f",
   "metadata": {},
   "outputs": [
    {
     "name": "stdout",
     "output_type": "stream",
     "text": [
      "<class 'pandas.core.frame.DataFrame'>\n",
      "RangeIndex: 150 entries, 0 to 149\n",
      "Data columns (total 5 columns):\n",
      " #   Column         Non-Null Count  Dtype  \n",
      "---  ------         --------------  -----  \n",
      " 0   SepalLengthCm  150 non-null    float64\n",
      " 1   SepalWidthCm   150 non-null    float64\n",
      " 2   PetalLengthCm  150 non-null    float64\n",
      " 3   PetalWidthCm   150 non-null    float64\n",
      " 4   Species        150 non-null    int64  \n",
      "dtypes: float64(4), int64(1)\n",
      "memory usage: 6.0 KB\n"
     ]
    }
   ],
   "source": [
    "df.info()"
   ]
  },
  {
   "cell_type": "markdown",
   "id": "723b603d",
   "metadata": {},
   "source": [
    "### Feature Selection"
   ]
  },
  {
   "cell_type": "markdown",
   "id": "469830d1",
   "metadata": {},
   "source": [
    "#### In fetaure selection we check the all assumption of Linear Regression "
   ]
  },
  {
   "cell_type": "markdown",
   "id": "08a3202b",
   "metadata": {},
   "source": [
    "### 1. Linarity"
   ]
  },
  {
   "cell_type": "code",
   "execution_count": 27,
   "id": "b9679a08",
   "metadata": {},
   "outputs": [
    {
     "data": {
      "text/html": [
       "<div>\n",
       "<style scoped>\n",
       "    .dataframe tbody tr th:only-of-type {\n",
       "        vertical-align: middle;\n",
       "    }\n",
       "\n",
       "    .dataframe tbody tr th {\n",
       "        vertical-align: top;\n",
       "    }\n",
       "\n",
       "    .dataframe thead th {\n",
       "        text-align: right;\n",
       "    }\n",
       "</style>\n",
       "<table border=\"1\" class=\"dataframe\">\n",
       "  <thead>\n",
       "    <tr style=\"text-align: right;\">\n",
       "      <th></th>\n",
       "      <th>SepalLengthCm</th>\n",
       "      <th>SepalWidthCm</th>\n",
       "      <th>PetalLengthCm</th>\n",
       "      <th>PetalWidthCm</th>\n",
       "      <th>Species</th>\n",
       "    </tr>\n",
       "  </thead>\n",
       "  <tbody>\n",
       "    <tr>\n",
       "      <th>SepalLengthCm</th>\n",
       "      <td>1.000000</td>\n",
       "      <td>-0.109369</td>\n",
       "      <td>0.871754</td>\n",
       "      <td>0.817954</td>\n",
       "      <td>0.782561</td>\n",
       "    </tr>\n",
       "    <tr>\n",
       "      <th>SepalWidthCm</th>\n",
       "      <td>-0.109369</td>\n",
       "      <td>1.000000</td>\n",
       "      <td>-0.420516</td>\n",
       "      <td>-0.356544</td>\n",
       "      <td>-0.419446</td>\n",
       "    </tr>\n",
       "    <tr>\n",
       "      <th>PetalLengthCm</th>\n",
       "      <td>0.871754</td>\n",
       "      <td>-0.420516</td>\n",
       "      <td>1.000000</td>\n",
       "      <td>0.962757</td>\n",
       "      <td>0.949043</td>\n",
       "    </tr>\n",
       "    <tr>\n",
       "      <th>PetalWidthCm</th>\n",
       "      <td>0.817954</td>\n",
       "      <td>-0.356544</td>\n",
       "      <td>0.962757</td>\n",
       "      <td>1.000000</td>\n",
       "      <td>0.956464</td>\n",
       "    </tr>\n",
       "    <tr>\n",
       "      <th>Species</th>\n",
       "      <td>0.782561</td>\n",
       "      <td>-0.419446</td>\n",
       "      <td>0.949043</td>\n",
       "      <td>0.956464</td>\n",
       "      <td>1.000000</td>\n",
       "    </tr>\n",
       "  </tbody>\n",
       "</table>\n",
       "</div>"
      ],
      "text/plain": [
       "               SepalLengthCm  SepalWidthCm  PetalLengthCm  PetalWidthCm  \\\n",
       "SepalLengthCm       1.000000     -0.109369       0.871754      0.817954   \n",
       "SepalWidthCm       -0.109369      1.000000      -0.420516     -0.356544   \n",
       "PetalLengthCm       0.871754     -0.420516       1.000000      0.962757   \n",
       "PetalWidthCm        0.817954     -0.356544       0.962757      1.000000   \n",
       "Species             0.782561     -0.419446       0.949043      0.956464   \n",
       "\n",
       "                Species  \n",
       "SepalLengthCm  0.782561  \n",
       "SepalWidthCm  -0.419446  \n",
       "PetalLengthCm  0.949043  \n",
       "PetalWidthCm   0.956464  \n",
       "Species        1.000000  "
      ]
     },
     "execution_count": 27,
     "metadata": {},
     "output_type": "execute_result"
    }
   ],
   "source": [
    "df.corr()"
   ]
  },
  {
   "cell_type": "code",
   "execution_count": 28,
   "id": "158cda48",
   "metadata": {
    "scrolled": true
   },
   "outputs": [
    {
     "data": {
      "text/plain": [
       "<seaborn.axisgrid.PairGrid at 0x22939e176a0>"
      ]
     },
     "execution_count": 28,
     "metadata": {},
     "output_type": "execute_result"
    },
    {
     "data": {
      "image/png": "[encoded data removed]",
      "text/plain": [
       "<Figure size 1250x1250 with 30 Axes>"
      ]
     },
     "metadata": {},
     "output_type": "display_data"
    }
   ],
   "source": [
    "sns.pairplot(df)"
   ]
  },
  {
   "cell_type": "code",
   "execution_count": 29,
   "id": "7002256a",
   "metadata": {
    "scrolled": true
   },
   "outputs": [
    {
     "data": {
      "text/plain": [
       "<Axes: >"
      ]
     },
     "execution_count": 29,
     "metadata": {},
     "output_type": "execute_result"
    },
    {
     "data": {
      "image/png": "[encoded data removed]",
      "text/plain": [
       "<Figure size 1000x800 with 2 Axes>"
      ]
     },
     "metadata": {},
     "output_type": "display_data"
    }
   ],
   "source": [
    "plt.figure(figsize = (10,8))\n",
    "sns.heatmap(df.corr())"
   ]
  },
  {
   "cell_type": "code",
   "execution_count": 30,
   "id": "a2e51ee1",
   "metadata": {
    "scrolled": true
   },
   "outputs": [
    {
     "data": {
      "text/plain": [
       "<Axes: >"
      ]
     },
     "execution_count": 30,
     "metadata": {},
     "output_type": "execute_result"
    },
    {
     "data": {
      "image/png": "[encoded data removed]",
      "text/plain": [
       "<Figure size 1000x800 with 2 Axes>"
      ]
     },
     "metadata": {},
     "output_type": "display_data"
    }
   ],
   "source": [
    "plt.figure(figsize = (10,8))\n",
    "sns.heatmap(df.corr(), annot = True)\n",
    "\n",
    "# annot is used to give values of correlation"
   ]
  },
  {
   "cell_type": "code",
   "execution_count": 31,
   "id": "cd4d5758",
   "metadata": {
    "scrolled": true
   },
   "outputs": [
    {
     "data": {
      "image/png": "[encoded data removed]",
      "text/plain": [
       "<Figure size 1000x800 with 2 Axes>"
      ]
     },
     "metadata": {},
     "output_type": "display_data"
    }
   ],
   "source": [
    "plt.figure(figsize = (10,8))\n",
    "sns.heatmap(df.corr(), annot = True, cmap= \"YlGnBu\")\n",
    "plt.savefig(\"Iris_correlation_graph.png\")\n",
    "\n",
    "\n",
    "\n",
    "# to save we use plt.savefig and to change the colour of given graph use the cmp =\"YlGnBu\"their are many coloure are availabale "
   ]
  },
  {
   "cell_type": "code",
   "execution_count": null,
   "id": "8b905c24",
   "metadata": {},
   "outputs": [],
   "source": []
  },
  {
   "cell_type": "markdown",
   "id": "964e880f",
   "metadata": {},
   "source": [
    "### 2. No Multicollinarity"
   ]
  },
  {
   "cell_type": "markdown",
   "id": "b0da9b3b",
   "metadata": {},
   "source": [
    "####  their should not be good correlction between independent variables"
   ]
  },
  {
   "cell_type": "raw",
   "id": "fa1e8a8f",
   "metadata": {},
   "source": [
    "VIF >> Variance Inflation factor\n",
    "VIF >> 1 to inf\n",
    "Best values 1 to infinity"
   ]
  },
  {
   "cell_type": "code",
   "execution_count": 32,
   "id": "9a3b98d3",
   "metadata": {},
   "outputs": [
    {
     "data": {
      "text/html": [
       "<div>\n",
       "<style scoped>\n",
       "    .dataframe tbody tr th:only-of-type {\n",
       "        vertical-align: middle;\n",
       "    }\n",
       "\n",
       "    .dataframe tbody tr th {\n",
       "        vertical-align: top;\n",
       "    }\n",
       "\n",
       "    .dataframe thead th {\n",
       "        text-align: right;\n",
       "    }\n",
       "</style>\n",
       "<table border=\"1\" class=\"dataframe\">\n",
       "  <thead>\n",
       "    <tr style=\"text-align: right;\">\n",
       "      <th></th>\n",
       "      <th>SepalWidthCm</th>\n",
       "      <th>PetalLengthCm</th>\n",
       "      <th>PetalWidthCm</th>\n",
       "      <th>Species</th>\n",
       "    </tr>\n",
       "  </thead>\n",
       "  <tbody>\n",
       "    <tr>\n",
       "      <th>0</th>\n",
       "      <td>3.5</td>\n",
       "      <td>1.4</td>\n",
       "      <td>0.2</td>\n",
       "      <td>0</td>\n",
       "    </tr>\n",
       "    <tr>\n",
       "      <th>1</th>\n",
       "      <td>3.0</td>\n",
       "      <td>1.4</td>\n",
       "      <td>0.2</td>\n",
       "      <td>0</td>\n",
       "    </tr>\n",
       "    <tr>\n",
       "      <th>2</th>\n",
       "      <td>3.2</td>\n",
       "      <td>1.3</td>\n",
       "      <td>0.2</td>\n",
       "      <td>0</td>\n",
       "    </tr>\n",
       "    <tr>\n",
       "      <th>3</th>\n",
       "      <td>3.1</td>\n",
       "      <td>1.5</td>\n",
       "      <td>0.2</td>\n",
       "      <td>0</td>\n",
       "    </tr>\n",
       "    <tr>\n",
       "      <th>4</th>\n",
       "      <td>3.6</td>\n",
       "      <td>1.4</td>\n",
       "      <td>0.2</td>\n",
       "      <td>0</td>\n",
       "    </tr>\n",
       "    <tr>\n",
       "      <th>...</th>\n",
       "      <td>...</td>\n",
       "      <td>...</td>\n",
       "      <td>...</td>\n",
       "      <td>...</td>\n",
       "    </tr>\n",
       "    <tr>\n",
       "      <th>145</th>\n",
       "      <td>3.0</td>\n",
       "      <td>5.2</td>\n",
       "      <td>2.3</td>\n",
       "      <td>2</td>\n",
       "    </tr>\n",
       "    <tr>\n",
       "      <th>146</th>\n",
       "      <td>2.5</td>\n",
       "      <td>5.0</td>\n",
       "      <td>1.9</td>\n",
       "      <td>2</td>\n",
       "    </tr>\n",
       "    <tr>\n",
       "      <th>147</th>\n",
       "      <td>3.0</td>\n",
       "      <td>5.2</td>\n",
       "      <td>2.0</td>\n",
       "      <td>2</td>\n",
       "    </tr>\n",
       "    <tr>\n",
       "      <th>148</th>\n",
       "      <td>3.4</td>\n",
       "      <td>5.4</td>\n",
       "      <td>2.3</td>\n",
       "      <td>2</td>\n",
       "    </tr>\n",
       "    <tr>\n",
       "      <th>149</th>\n",
       "      <td>3.0</td>\n",
       "      <td>5.1</td>\n",
       "      <td>1.8</td>\n",
       "      <td>2</td>\n",
       "    </tr>\n",
       "  </tbody>\n",
       "</table>\n",
       "<p>150 rows × 4 columns</p>\n",
       "</div>"
      ],
      "text/plain": [
       "     SepalWidthCm  PetalLengthCm  PetalWidthCm  Species\n",
       "0             3.5            1.4           0.2        0\n",
       "1             3.0            1.4           0.2        0\n",
       "2             3.2            1.3           0.2        0\n",
       "3             3.1            1.5           0.2        0\n",
       "4             3.6            1.4           0.2        0\n",
       "..            ...            ...           ...      ...\n",
       "145           3.0            5.2           2.3        2\n",
       "146           2.5            5.0           1.9        2\n",
       "147           3.0            5.2           2.0        2\n",
       "148           3.4            5.4           2.3        2\n",
       "149           3.0            5.1           1.8        2\n",
       "\n",
       "[150 rows x 4 columns]"
      ]
     },
     "execution_count": 32,
     "metadata": {},
     "output_type": "execute_result"
    }
   ],
   "source": [
    "df1 = df.drop(\"SepalLengthCm\", axis = 1)\n",
    "df1"
   ]
  },
  {
   "cell_type": "code",
   "execution_count": 33,
   "id": "baa6451c",
   "metadata": {
    "scrolled": true
   },
   "outputs": [
    {
     "data": {
      "text/plain": [
       "array([[3.5, 1.4, 0.2, 0. ],\n",
       "       [3. , 1.4, 0.2, 0. ],\n",
       "       [3.2, 1.3, 0.2, 0. ],\n",
       "       [3.1, 1.5, 0.2, 0. ],\n",
       "       [3.6, 1.4, 0.2, 0. ],\n",
       "       [3.9, 1.7, 0.4, 0. ],\n",
       "       [3.4, 1.4, 0.3, 0. ],\n",
       "       [3.4, 1.5, 0.2, 0. ],\n",
       "       [2.9, 1.4, 0.2, 0. ],\n",
       "       [3.1, 1.5, 0.1, 0. ],\n",
       "       [3.7, 1.5, 0.2, 0. ],\n",
       "       [3.4, 1.6, 0.2, 0. ],\n",
       "       [3. , 1.4, 0.1, 0. ],\n",
       "       [3. , 1.1, 0.1, 0. ],\n",
       "       [4. , 1.2, 0.2, 0. ],\n",
       "       [4.4, 1.5, 0.4, 0. ],\n",
       "       [3.9, 1.3, 0.4, 0. ],\n",
       "       [3.5, 1.4, 0.3, 0. ],\n",
       "       [3.8, 1.7, 0.3, 0. ],\n",
       "       [3.8, 1.5, 0.3, 0. ],\n",
       "       [3.4, 1.7, 0.2, 0. ],\n",
       "       [3.7, 1.5, 0.4, 0. ],\n",
       "       [3.6, 1. , 0.2, 0. ],\n",
       "       [3.3, 1.7, 0.5, 0. ],\n",
       "       [3.4, 1.9, 0.2, 0. ],\n",
       "       [3. , 1.6, 0.2, 0. ],\n",
       "       [3.4, 1.6, 0.4, 0. ],\n",
       "       [3.5, 1.5, 0.2, 0. ],\n",
       "       [3.4, 1.4, 0.2, 0. ],\n",
       "       [3.2, 1.6, 0.2, 0. ],\n",
       "       [3.1, 1.6, 0.2, 0. ],\n",
       "       [3.4, 1.5, 0.4, 0. ],\n",
       "       [4.1, 1.5, 0.1, 0. ],\n",
       "       [4.2, 1.4, 0.2, 0. ],\n",
       "       [3.1, 1.5, 0.1, 0. ],\n",
       "       [3.2, 1.2, 0.2, 0. ],\n",
       "       [3.5, 1.3, 0.2, 0. ],\n",
       "       [3.1, 1.5, 0.1, 0. ],\n",
       "       [3. , 1.3, 0.2, 0. ],\n",
       "       [3.4, 1.5, 0.2, 0. ],\n",
       "       [3.5, 1.3, 0.3, 0. ],\n",
       "       [2.3, 1.3, 0.3, 0. ],\n",
       "       [3.2, 1.3, 0.2, 0. ],\n",
       "       [3.5, 1.6, 0.6, 0. ],\n",
       "       [3.8, 1.9, 0.4, 0. ],\n",
       "       [3. , 1.4, 0.3, 0. ],\n",
       "       [3.8, 1.6, 0.2, 0. ],\n",
       "       [3.2, 1.4, 0.2, 0. ],\n",
       "       [3.7, 1.5, 0.2, 0. ],\n",
       "       [3.3, 1.4, 0.2, 0. ],\n",
       "       [3.2, 4.7, 1.4, 1. ],\n",
       "       [3.2, 4.5, 1.5, 1. ],\n",
       "       [3.1, 4.9, 1.5, 1. ],\n",
       "       [2.3, 4. , 1.3, 1. ],\n",
       "       [2.8, 4.6, 1.5, 1. ],\n",
       "       [2.8, 4.5, 1.3, 1. ],\n",
       "       [3.3, 4.7, 1.6, 1. ],\n",
       "       [2.4, 3.3, 1. , 1. ],\n",
       "       [2.9, 4.6, 1.3, 1. ],\n",
       "       [2.7, 3.9, 1.4, 1. ],\n",
       "       [2. , 3.5, 1. , 1. ],\n",
       "       [3. , 4.2, 1.5, 1. ],\n",
       "       [2.2, 4. , 1. , 1. ],\n",
       "       [2.9, 4.7, 1.4, 1. ],\n",
       "       [2.9, 3.6, 1.3, 1. ],\n",
       "       [3.1, 4.4, 1.4, 1. ],\n",
       "       [3. , 4.5, 1.5, 1. ],\n",
       "       [2.7, 4.1, 1. , 1. ],\n",
       "       [2.2, 4.5, 1.5, 1. ],\n",
       "       [2.5, 3.9, 1.1, 1. ],\n",
       "       [3.2, 4.8, 1.8, 1. ],\n",
       "       [2.8, 4. , 1.3, 1. ],\n",
       "       [2.5, 4.9, 1.5, 1. ],\n",
       "       [2.8, 4.7, 1.2, 1. ],\n",
       "       [2.9, 4.3, 1.3, 1. ],\n",
       "       [3. , 4.4, 1.4, 1. ],\n",
       "       [2.8, 4.8, 1.4, 1. ],\n",
       "       [3. , 5. , 1.7, 1. ],\n",
       "       [2.9, 4.5, 1.5, 1. ],\n",
       "       [2.6, 3.5, 1. , 1. ],\n",
       "       [2.4, 3.8, 1.1, 1. ],\n",
       "       [2.4, 3.7, 1. , 1. ],\n",
       "       [2.7, 3.9, 1.2, 1. ],\n",
       "       [2.7, 5.1, 1.6, 1. ],\n",
       "       [3. , 4.5, 1.5, 1. ],\n",
       "       [3.4, 4.5, 1.6, 1. ],\n",
       "       [3.1, 4.7, 1.5, 1. ],\n",
       "       [2.3, 4.4, 1.3, 1. ],\n",
       "       [3. , 4.1, 1.3, 1. ],\n",
       "       [2.5, 4. , 1.3, 1. ],\n",
       "       [2.6, 4.4, 1.2, 1. ],\n",
       "       [3. , 4.6, 1.4, 1. ],\n",
       "       [2.6, 4. , 1.2, 1. ],\n",
       "       [2.3, 3.3, 1. , 1. ],\n",
       "       [2.7, 4.2, 1.3, 1. ],\n",
       "       [3. , 4.2, 1.2, 1. ],\n",
       "       [2.9, 4.2, 1.3, 1. ],\n",
       "       [2.9, 4.3, 1.3, 1. ],\n",
       "       [2.5, 3. , 1.1, 1. ],\n",
       "       [2.8, 4.1, 1.3, 1. ],\n",
       "       [3.3, 6. , 2.5, 2. ],\n",
       "       [2.7, 5.1, 1.9, 2. ],\n",
       "       [3. , 5.9, 2.1, 2. ],\n",
       "       [2.9, 5.6, 1.8, 2. ],\n",
       "       [3. , 5.8, 2.2, 2. ],\n",
       "       [3. , 6.6, 2.1, 2. ],\n",
       "       [2.5, 4.5, 1.7, 2. ],\n",
       "       [2.9, 6.3, 1.8, 2. ],\n",
       "       [2.5, 5.8, 1.8, 2. ],\n",
       "       [3.6, 6.1, 2.5, 2. ],\n",
       "       [3.2, 5.1, 2. , 2. ],\n",
       "       [2.7, 5.3, 1.9, 2. ],\n",
       "       [3. , 5.5, 2.1, 2. ],\n",
       "       [2.5, 5. , 2. , 2. ],\n",
       "       [2.8, 5.1, 2.4, 2. ],\n",
       "       [3.2, 5.3, 2.3, 2. ],\n",
       "       [3. , 5.5, 1.8, 2. ],\n",
       "       [3.8, 6.7, 2.2, 2. ],\n",
       "       [2.6, 6.9, 2.3, 2. ],\n",
       "       [2.2, 5. , 1.5, 2. ],\n",
       "       [3.2, 5.7, 2.3, 2. ],\n",
       "       [2.8, 4.9, 2. , 2. ],\n",
       "       [2.8, 6.7, 2. , 2. ],\n",
       "       [2.7, 4.9, 1.8, 2. ],\n",
       "       [3.3, 5.7, 2.1, 2. ],\n",
       "       [3.2, 6. , 1.8, 2. ],\n",
       "       [2.8, 4.8, 1.8, 2. ],\n",
       "       [3. , 4.9, 1.8, 2. ],\n",
       "       [2.8, 5.6, 2.1, 2. ],\n",
       "       [3. , 5.8, 1.6, 2. ],\n",
       "       [2.8, 6.1, 1.9, 2. ],\n",
       "       [3.8, 6.4, 2. , 2. ],\n",
       "       [2.8, 5.6, 2.2, 2. ],\n",
       "       [2.8, 5.1, 1.5, 2. ],\n",
       "       [2.6, 5.6, 1.4, 2. ],\n",
       "       [3. , 6.1, 2.3, 2. ],\n",
       "       [3.4, 5.6, 2.4, 2. ],\n",
       "       [3.1, 5.5, 1.8, 2. ],\n",
       "       [3. , 4.8, 1.8, 2. ],\n",
       "       [3.1, 5.4, 2.1, 2. ],\n",
       "       [3.1, 5.6, 2.4, 2. ],\n",
       "       [3.1, 5.1, 2.3, 2. ],\n",
       "       [2.7, 5.1, 1.9, 2. ],\n",
       "       [3.2, 5.9, 2.3, 2. ],\n",
       "       [3.3, 5.7, 2.5, 2. ],\n",
       "       [3. , 5.2, 2.3, 2. ],\n",
       "       [2.5, 5. , 1.9, 2. ],\n",
       "       [3. , 5.2, 2. , 2. ],\n",
       "       [3.4, 5.4, 2.3, 2. ],\n",
       "       [3. , 5.1, 1.8, 2. ]])"
      ]
     },
     "execution_count": 33,
     "metadata": {},
     "output_type": "execute_result"
    }
   ],
   "source": [
    "df1.to_numpy()"
   ]
  },
  {
   "cell_type": "code",
   "execution_count": 34,
   "id": "0b1b487a",
   "metadata": {},
   "outputs": [
    {
     "data": {
      "text/html": [
       "<div>\n",
       "<style scoped>\n",
       "    .dataframe tbody tr th:only-of-type {\n",
       "        vertical-align: middle;\n",
       "    }\n",
       "\n",
       "    .dataframe tbody tr th {\n",
       "        vertical-align: top;\n",
       "    }\n",
       "\n",
       "    .dataframe thead th {\n",
       "        text-align: right;\n",
       "    }\n",
       "</style>\n",
       "<table border=\"1\" class=\"dataframe\">\n",
       "  <thead>\n",
       "    <tr style=\"text-align: right;\">\n",
       "      <th></th>\n",
       "      <th>Features</th>\n",
       "    </tr>\n",
       "  </thead>\n",
       "  <tbody>\n",
       "    <tr>\n",
       "      <th>0</th>\n",
       "      <td>SepalWidthCm</td>\n",
       "    </tr>\n",
       "    <tr>\n",
       "      <th>1</th>\n",
       "      <td>PetalLengthCm</td>\n",
       "    </tr>\n",
       "    <tr>\n",
       "      <th>2</th>\n",
       "      <td>PetalWidthCm</td>\n",
       "    </tr>\n",
       "    <tr>\n",
       "      <th>3</th>\n",
       "      <td>Species</td>\n",
       "    </tr>\n",
       "  </tbody>\n",
       "</table>\n",
       "</div>"
      ],
      "text/plain": [
       "        Features\n",
       "0   SepalWidthCm\n",
       "1  PetalLengthCm\n",
       "2   PetalWidthCm\n",
       "3        Species"
      ]
     },
     "execution_count": 34,
     "metadata": {},
     "output_type": "execute_result"
    }
   ],
   "source": [
    "vif_df = pd.DataFrame()\n",
    "vif_df[\"Features\"] = df1.columns\n",
    "vif_df"
   ]
  },
  {
   "cell_type": "code",
   "execution_count": 35,
   "id": "217602fe",
   "metadata": {},
   "outputs": [
    {
     "data": {
      "text/plain": [
       "[8.718375483472458, 69.65817199967945, 62.15012883122359, 35.05742271756181]"
      ]
     },
     "execution_count": 35,
     "metadata": {},
     "output_type": "execute_result"
    }
   ],
   "source": [
    "vif_list = []\n",
    "for i in range(df1.shape[1]):\n",
    "    vif = variance_inflation_factor(df1.to_numpy(), i)\n",
    "    vif_list.append(vif)\n",
    "    \n",
    "vif_list    "
   ]
  },
  {
   "cell_type": "code",
   "execution_count": 36,
   "id": "48548889",
   "metadata": {},
   "outputs": [
    {
     "data": {
      "text/html": [
       "<div>\n",
       "<style scoped>\n",
       "    .dataframe tbody tr th:only-of-type {\n",
       "        vertical-align: middle;\n",
       "    }\n",
       "\n",
       "    .dataframe tbody tr th {\n",
       "        vertical-align: top;\n",
       "    }\n",
       "\n",
       "    .dataframe thead th {\n",
       "        text-align: right;\n",
       "    }\n",
       "</style>\n",
       "<table border=\"1\" class=\"dataframe\">\n",
       "  <thead>\n",
       "    <tr style=\"text-align: right;\">\n",
       "      <th></th>\n",
       "      <th>Features</th>\n",
       "      <th>VIF</th>\n",
       "    </tr>\n",
       "  </thead>\n",
       "  <tbody>\n",
       "    <tr>\n",
       "      <th>0</th>\n",
       "      <td>SepalWidthCm</td>\n",
       "      <td>8.718375</td>\n",
       "    </tr>\n",
       "    <tr>\n",
       "      <th>1</th>\n",
       "      <td>PetalLengthCm</td>\n",
       "      <td>69.658172</td>\n",
       "    </tr>\n",
       "    <tr>\n",
       "      <th>2</th>\n",
       "      <td>PetalWidthCm</td>\n",
       "      <td>62.150129</td>\n",
       "    </tr>\n",
       "    <tr>\n",
       "      <th>3</th>\n",
       "      <td>Species</td>\n",
       "      <td>35.057423</td>\n",
       "    </tr>\n",
       "  </tbody>\n",
       "</table>\n",
       "</div>"
      ],
      "text/plain": [
       "        Features        VIF\n",
       "0   SepalWidthCm   8.718375\n",
       "1  PetalLengthCm  69.658172\n",
       "2   PetalWidthCm  62.150129\n",
       "3        Species  35.057423"
      ]
     },
     "execution_count": 36,
     "metadata": {},
     "output_type": "execute_result"
    }
   ],
   "source": [
    "vif_df[\"VIF\"]  = vif_list\n",
    "vif_df"
   ]
  },
  {
   "cell_type": "markdown",
   "id": "6eb52b77",
   "metadata": {},
   "source": [
    "### Train Model"
   ]
  },
  {
   "cell_type": "code",
   "execution_count": 37,
   "id": "e6e71e19",
   "metadata": {},
   "outputs": [],
   "source": [
    "x = df.drop(\"SepalLengthCm\", axis = 1)   # independent variables \n",
    "y = df[\"SepalLengthCm\"]"
   ]
  },
  {
   "cell_type": "code",
   "execution_count": 38,
   "id": "49739843",
   "metadata": {},
   "outputs": [
    {
     "data": {
      "text/html": [
       "<div>\n",
       "<style scoped>\n",
       "    .dataframe tbody tr th:only-of-type {\n",
       "        vertical-align: middle;\n",
       "    }\n",
       "\n",
       "    .dataframe tbody tr th {\n",
       "        vertical-align: top;\n",
       "    }\n",
       "\n",
       "    .dataframe thead th {\n",
       "        text-align: right;\n",
       "    }\n",
       "</style>\n",
       "<table border=\"1\" class=\"dataframe\">\n",
       "  <thead>\n",
       "    <tr style=\"text-align: right;\">\n",
       "      <th></th>\n",
       "      <th>SepalWidthCm</th>\n",
       "      <th>PetalLengthCm</th>\n",
       "      <th>PetalWidthCm</th>\n",
       "      <th>Species</th>\n",
       "    </tr>\n",
       "  </thead>\n",
       "  <tbody>\n",
       "    <tr>\n",
       "      <th>0</th>\n",
       "      <td>3.5</td>\n",
       "      <td>1.4</td>\n",
       "      <td>0.2</td>\n",
       "      <td>0</td>\n",
       "    </tr>\n",
       "    <tr>\n",
       "      <th>1</th>\n",
       "      <td>3.0</td>\n",
       "      <td>1.4</td>\n",
       "      <td>0.2</td>\n",
       "      <td>0</td>\n",
       "    </tr>\n",
       "    <tr>\n",
       "      <th>2</th>\n",
       "      <td>3.2</td>\n",
       "      <td>1.3</td>\n",
       "      <td>0.2</td>\n",
       "      <td>0</td>\n",
       "    </tr>\n",
       "    <tr>\n",
       "      <th>3</th>\n",
       "      <td>3.1</td>\n",
       "      <td>1.5</td>\n",
       "      <td>0.2</td>\n",
       "      <td>0</td>\n",
       "    </tr>\n",
       "    <tr>\n",
       "      <th>4</th>\n",
       "      <td>3.6</td>\n",
       "      <td>1.4</td>\n",
       "      <td>0.2</td>\n",
       "      <td>0</td>\n",
       "    </tr>\n",
       "    <tr>\n",
       "      <th>...</th>\n",
       "      <td>...</td>\n",
       "      <td>...</td>\n",
       "      <td>...</td>\n",
       "      <td>...</td>\n",
       "    </tr>\n",
       "    <tr>\n",
       "      <th>145</th>\n",
       "      <td>3.0</td>\n",
       "      <td>5.2</td>\n",
       "      <td>2.3</td>\n",
       "      <td>2</td>\n",
       "    </tr>\n",
       "    <tr>\n",
       "      <th>146</th>\n",
       "      <td>2.5</td>\n",
       "      <td>5.0</td>\n",
       "      <td>1.9</td>\n",
       "      <td>2</td>\n",
       "    </tr>\n",
       "    <tr>\n",
       "      <th>147</th>\n",
       "      <td>3.0</td>\n",
       "      <td>5.2</td>\n",
       "      <td>2.0</td>\n",
       "      <td>2</td>\n",
       "    </tr>\n",
       "    <tr>\n",
       "      <th>148</th>\n",
       "      <td>3.4</td>\n",
       "      <td>5.4</td>\n",
       "      <td>2.3</td>\n",
       "      <td>2</td>\n",
       "    </tr>\n",
       "    <tr>\n",
       "      <th>149</th>\n",
       "      <td>3.0</td>\n",
       "      <td>5.1</td>\n",
       "      <td>1.8</td>\n",
       "      <td>2</td>\n",
       "    </tr>\n",
       "  </tbody>\n",
       "</table>\n",
       "<p>150 rows × 4 columns</p>\n",
       "</div>"
      ],
      "text/plain": [
       "     SepalWidthCm  PetalLengthCm  PetalWidthCm  Species\n",
       "0             3.5            1.4           0.2        0\n",
       "1             3.0            1.4           0.2        0\n",
       "2             3.2            1.3           0.2        0\n",
       "3             3.1            1.5           0.2        0\n",
       "4             3.6            1.4           0.2        0\n",
       "..            ...            ...           ...      ...\n",
       "145           3.0            5.2           2.3        2\n",
       "146           2.5            5.0           1.9        2\n",
       "147           3.0            5.2           2.0        2\n",
       "148           3.4            5.4           2.3        2\n",
       "149           3.0            5.1           1.8        2\n",
       "\n",
       "[150 rows x 4 columns]"
      ]
     },
     "execution_count": 38,
     "metadata": {},
     "output_type": "execute_result"
    }
   ],
   "source": [
    "x"
   ]
  },
  {
   "cell_type": "code",
   "execution_count": 39,
   "id": "d1623e17",
   "metadata": {},
   "outputs": [
    {
     "data": {
      "text/plain": [
       "0      5.1\n",
       "1      4.9\n",
       "2      4.7\n",
       "3      4.6\n",
       "4      5.0\n",
       "      ... \n",
       "145    6.7\n",
       "146    6.3\n",
       "147    6.5\n",
       "148    6.2\n",
       "149    5.9\n",
       "Name: SepalLengthCm, Length: 150, dtype: float64"
      ]
     },
     "execution_count": 39,
     "metadata": {},
     "output_type": "execute_result"
    }
   ],
   "source": [
    "y"
   ]
  },
  {
   "cell_type": "markdown",
   "id": "d700fd94",
   "metadata": {},
   "source": [
    "### Train Test Split"
   ]
  },
  {
   "cell_type": "markdown",
   "id": "f64d8777",
   "metadata": {},
   "source": [
    "150 row>>\n",
    "          tarin  80% >> 120 rows\n",
    "          test   20% >> 30 rows"
   ]
  },
  {
   "cell_type": "code",
   "execution_count": 40,
   "id": "b41e6891",
   "metadata": {
    "scrolled": true
   },
   "outputs": [
    {
     "data": {
      "text/html": [
       "<div>\n",
       "<style scoped>\n",
       "    .dataframe tbody tr th:only-of-type {\n",
       "        vertical-align: middle;\n",
       "    }\n",
       "\n",
       "    .dataframe tbody tr th {\n",
       "        vertical-align: top;\n",
       "    }\n",
       "\n",
       "    .dataframe thead th {\n",
       "        text-align: right;\n",
       "    }\n",
       "</style>\n",
       "<table border=\"1\" class=\"dataframe\">\n",
       "  <thead>\n",
       "    <tr style=\"text-align: right;\">\n",
       "      <th></th>\n",
       "      <th>SepalWidthCm</th>\n",
       "      <th>PetalLengthCm</th>\n",
       "      <th>PetalWidthCm</th>\n",
       "      <th>Species</th>\n",
       "    </tr>\n",
       "  </thead>\n",
       "  <tbody>\n",
       "    <tr>\n",
       "      <th>0</th>\n",
       "      <td>3.5</td>\n",
       "      <td>1.4</td>\n",
       "      <td>0.2</td>\n",
       "      <td>0</td>\n",
       "    </tr>\n",
       "    <tr>\n",
       "      <th>120</th>\n",
       "      <td>3.2</td>\n",
       "      <td>5.7</td>\n",
       "      <td>2.3</td>\n",
       "      <td>2</td>\n",
       "    </tr>\n",
       "    <tr>\n",
       "      <th>122</th>\n",
       "      <td>2.8</td>\n",
       "      <td>6.7</td>\n",
       "      <td>2.0</td>\n",
       "      <td>2</td>\n",
       "    </tr>\n",
       "    <tr>\n",
       "      <th>49</th>\n",
       "      <td>3.3</td>\n",
       "      <td>1.4</td>\n",
       "      <td>0.2</td>\n",
       "      <td>0</td>\n",
       "    </tr>\n",
       "    <tr>\n",
       "      <th>29</th>\n",
       "      <td>3.2</td>\n",
       "      <td>1.6</td>\n",
       "      <td>0.2</td>\n",
       "      <td>0</td>\n",
       "    </tr>\n",
       "    <tr>\n",
       "      <th>...</th>\n",
       "      <td>...</td>\n",
       "      <td>...</td>\n",
       "      <td>...</td>\n",
       "      <td>...</td>\n",
       "    </tr>\n",
       "    <tr>\n",
       "      <th>76</th>\n",
       "      <td>2.8</td>\n",
       "      <td>4.8</td>\n",
       "      <td>1.4</td>\n",
       "      <td>1</td>\n",
       "    </tr>\n",
       "    <tr>\n",
       "      <th>13</th>\n",
       "      <td>3.0</td>\n",
       "      <td>1.1</td>\n",
       "      <td>0.1</td>\n",
       "      <td>0</td>\n",
       "    </tr>\n",
       "    <tr>\n",
       "      <th>81</th>\n",
       "      <td>2.4</td>\n",
       "      <td>3.7</td>\n",
       "      <td>1.0</td>\n",
       "      <td>1</td>\n",
       "    </tr>\n",
       "    <tr>\n",
       "      <th>91</th>\n",
       "      <td>3.0</td>\n",
       "      <td>4.6</td>\n",
       "      <td>1.4</td>\n",
       "      <td>1</td>\n",
       "    </tr>\n",
       "    <tr>\n",
       "      <th>80</th>\n",
       "      <td>2.4</td>\n",
       "      <td>3.8</td>\n",
       "      <td>1.1</td>\n",
       "      <td>1</td>\n",
       "    </tr>\n",
       "  </tbody>\n",
       "</table>\n",
       "<p>120 rows × 4 columns</p>\n",
       "</div>"
      ],
      "text/plain": [
       "     SepalWidthCm  PetalLengthCm  PetalWidthCm  Species\n",
       "0             3.5            1.4           0.2        0\n",
       "120           3.2            5.7           2.3        2\n",
       "122           2.8            6.7           2.0        2\n",
       "49            3.3            1.4           0.2        0\n",
       "29            3.2            1.6           0.2        0\n",
       "..            ...            ...           ...      ...\n",
       "76            2.8            4.8           1.4        1\n",
       "13            3.0            1.1           0.1        0\n",
       "81            2.4            3.7           1.0        1\n",
       "91            3.0            4.6           1.4        1\n",
       "80            2.4            3.8           1.1        1\n",
       "\n",
       "[120 rows x 4 columns]"
      ]
     },
     "execution_count": 40,
     "metadata": {},
     "output_type": "execute_result"
    }
   ],
   "source": [
    "x_train, x_test, y_train, y_test = train_test_split(x,y, test_size = 0.2, shuffle = True, random_state = 11)\n",
    "x_train\n",
    "\n",
    "\n",
    "\n",
    "\n",
    "# we want shuffle data from dataset that why we use shuffle = True\n",
    "# when we are using shuffle = True every time its give new data set but for train the model our data set should not have\n",
    "# to change for that we use the random_state parameter from tarin_test_split function\n",
    "\n",
    "\n",
    "# and while using random_state = 1/2/10/15  (value)  \n",
    "# you can give any value but onces you give that value you sholud not have to change for hole tarin model\n"
   ]
  },
  {
   "cell_type": "code",
   "execution_count": 41,
   "id": "376bc362",
   "metadata": {
    "scrolled": true
   },
   "outputs": [
    {
     "data": {
      "text/html": [
       "<div>\n",
       "<style scoped>\n",
       "    .dataframe tbody tr th:only-of-type {\n",
       "        vertical-align: middle;\n",
       "    }\n",
       "\n",
       "    .dataframe tbody tr th {\n",
       "        vertical-align: top;\n",
       "    }\n",
       "\n",
       "    .dataframe thead th {\n",
       "        text-align: right;\n",
       "    }\n",
       "</style>\n",
       "<table border=\"1\" class=\"dataframe\">\n",
       "  <thead>\n",
       "    <tr style=\"text-align: right;\">\n",
       "      <th></th>\n",
       "      <th>SepalWidthCm</th>\n",
       "      <th>PetalLengthCm</th>\n",
       "      <th>PetalWidthCm</th>\n",
       "      <th>Species</th>\n",
       "    </tr>\n",
       "  </thead>\n",
       "  <tbody>\n",
       "    <tr>\n",
       "      <th>112</th>\n",
       "      <td>3.0</td>\n",
       "      <td>5.5</td>\n",
       "      <td>2.1</td>\n",
       "      <td>2</td>\n",
       "    </tr>\n",
       "    <tr>\n",
       "      <th>145</th>\n",
       "      <td>3.0</td>\n",
       "      <td>5.2</td>\n",
       "      <td>2.3</td>\n",
       "      <td>2</td>\n",
       "    </tr>\n",
       "    <tr>\n",
       "      <th>133</th>\n",
       "      <td>2.8</td>\n",
       "      <td>5.1</td>\n",
       "      <td>1.5</td>\n",
       "      <td>2</td>\n",
       "    </tr>\n",
       "    <tr>\n",
       "      <th>56</th>\n",
       "      <td>3.3</td>\n",
       "      <td>4.7</td>\n",
       "      <td>1.6</td>\n",
       "      <td>1</td>\n",
       "    </tr>\n",
       "    <tr>\n",
       "      <th>111</th>\n",
       "      <td>2.7</td>\n",
       "      <td>5.3</td>\n",
       "      <td>1.9</td>\n",
       "      <td>2</td>\n",
       "    </tr>\n",
       "    <tr>\n",
       "      <th>9</th>\n",
       "      <td>3.1</td>\n",
       "      <td>1.5</td>\n",
       "      <td>0.1</td>\n",
       "      <td>0</td>\n",
       "    </tr>\n",
       "    <tr>\n",
       "      <th>65</th>\n",
       "      <td>3.1</td>\n",
       "      <td>4.4</td>\n",
       "      <td>1.4</td>\n",
       "      <td>1</td>\n",
       "    </tr>\n",
       "    <tr>\n",
       "      <th>15</th>\n",
       "      <td>4.4</td>\n",
       "      <td>1.5</td>\n",
       "      <td>0.4</td>\n",
       "      <td>0</td>\n",
       "    </tr>\n",
       "    <tr>\n",
       "      <th>30</th>\n",
       "      <td>3.1</td>\n",
       "      <td>1.6</td>\n",
       "      <td>0.2</td>\n",
       "      <td>0</td>\n",
       "    </tr>\n",
       "    <tr>\n",
       "      <th>63</th>\n",
       "      <td>2.9</td>\n",
       "      <td>4.7</td>\n",
       "      <td>1.4</td>\n",
       "      <td>1</td>\n",
       "    </tr>\n",
       "    <tr>\n",
       "      <th>119</th>\n",
       "      <td>2.2</td>\n",
       "      <td>5.0</td>\n",
       "      <td>1.5</td>\n",
       "      <td>2</td>\n",
       "    </tr>\n",
       "    <tr>\n",
       "      <th>62</th>\n",
       "      <td>2.2</td>\n",
       "      <td>4.0</td>\n",
       "      <td>1.0</td>\n",
       "      <td>1</td>\n",
       "    </tr>\n",
       "    <tr>\n",
       "      <th>84</th>\n",
       "      <td>3.0</td>\n",
       "      <td>4.5</td>\n",
       "      <td>1.5</td>\n",
       "      <td>1</td>\n",
       "    </tr>\n",
       "    <tr>\n",
       "      <th>113</th>\n",
       "      <td>2.5</td>\n",
       "      <td>5.0</td>\n",
       "      <td>2.0</td>\n",
       "      <td>2</td>\n",
       "    </tr>\n",
       "    <tr>\n",
       "      <th>139</th>\n",
       "      <td>3.1</td>\n",
       "      <td>5.4</td>\n",
       "      <td>2.1</td>\n",
       "      <td>2</td>\n",
       "    </tr>\n",
       "    <tr>\n",
       "      <th>41</th>\n",
       "      <td>2.3</td>\n",
       "      <td>1.3</td>\n",
       "      <td>0.3</td>\n",
       "      <td>0</td>\n",
       "    </tr>\n",
       "    <tr>\n",
       "      <th>103</th>\n",
       "      <td>2.9</td>\n",
       "      <td>5.6</td>\n",
       "      <td>1.8</td>\n",
       "      <td>2</td>\n",
       "    </tr>\n",
       "    <tr>\n",
       "      <th>66</th>\n",
       "      <td>3.0</td>\n",
       "      <td>4.5</td>\n",
       "      <td>1.5</td>\n",
       "      <td>1</td>\n",
       "    </tr>\n",
       "    <tr>\n",
       "      <th>110</th>\n",
       "      <td>3.2</td>\n",
       "      <td>5.1</td>\n",
       "      <td>2.0</td>\n",
       "      <td>2</td>\n",
       "    </tr>\n",
       "    <tr>\n",
       "      <th>142</th>\n",
       "      <td>2.7</td>\n",
       "      <td>5.1</td>\n",
       "      <td>1.9</td>\n",
       "      <td>2</td>\n",
       "    </tr>\n",
       "    <tr>\n",
       "      <th>69</th>\n",
       "      <td>2.5</td>\n",
       "      <td>3.9</td>\n",
       "      <td>1.1</td>\n",
       "      <td>1</td>\n",
       "    </tr>\n",
       "    <tr>\n",
       "      <th>2</th>\n",
       "      <td>3.2</td>\n",
       "      <td>1.3</td>\n",
       "      <td>0.2</td>\n",
       "      <td>0</td>\n",
       "    </tr>\n",
       "    <tr>\n",
       "      <th>22</th>\n",
       "      <td>3.6</td>\n",
       "      <td>1.0</td>\n",
       "      <td>0.2</td>\n",
       "      <td>0</td>\n",
       "    </tr>\n",
       "    <tr>\n",
       "      <th>51</th>\n",
       "      <td>3.2</td>\n",
       "      <td>4.5</td>\n",
       "      <td>1.5</td>\n",
       "      <td>1</td>\n",
       "    </tr>\n",
       "    <tr>\n",
       "      <th>12</th>\n",
       "      <td>3.0</td>\n",
       "      <td>1.4</td>\n",
       "      <td>0.1</td>\n",
       "      <td>0</td>\n",
       "    </tr>\n",
       "    <tr>\n",
       "      <th>11</th>\n",
       "      <td>3.4</td>\n",
       "      <td>1.6</td>\n",
       "      <td>0.2</td>\n",
       "      <td>0</td>\n",
       "    </tr>\n",
       "    <tr>\n",
       "      <th>149</th>\n",
       "      <td>3.0</td>\n",
       "      <td>5.1</td>\n",
       "      <td>1.8</td>\n",
       "      <td>2</td>\n",
       "    </tr>\n",
       "    <tr>\n",
       "      <th>75</th>\n",
       "      <td>3.0</td>\n",
       "      <td>4.4</td>\n",
       "      <td>1.4</td>\n",
       "      <td>1</td>\n",
       "    </tr>\n",
       "    <tr>\n",
       "      <th>16</th>\n",
       "      <td>3.9</td>\n",
       "      <td>1.3</td>\n",
       "      <td>0.4</td>\n",
       "      <td>0</td>\n",
       "    </tr>\n",
       "    <tr>\n",
       "      <th>85</th>\n",
       "      <td>3.4</td>\n",
       "      <td>4.5</td>\n",
       "      <td>1.6</td>\n",
       "      <td>1</td>\n",
       "    </tr>\n",
       "  </tbody>\n",
       "</table>\n",
       "</div>"
      ],
      "text/plain": [
       "     SepalWidthCm  PetalLengthCm  PetalWidthCm  Species\n",
       "112           3.0            5.5           2.1        2\n",
       "145           3.0            5.2           2.3        2\n",
       "133           2.8            5.1           1.5        2\n",
       "56            3.3            4.7           1.6        1\n",
       "111           2.7            5.3           1.9        2\n",
       "9             3.1            1.5           0.1        0\n",
       "65            3.1            4.4           1.4        1\n",
       "15            4.4            1.5           0.4        0\n",
       "30            3.1            1.6           0.2        0\n",
       "63            2.9            4.7           1.4        1\n",
       "119           2.2            5.0           1.5        2\n",
       "62            2.2            4.0           1.0        1\n",
       "84            3.0            4.5           1.5        1\n",
       "113           2.5            5.0           2.0        2\n",
       "139           3.1            5.4           2.1        2\n",
       "41            2.3            1.3           0.3        0\n",
       "103           2.9            5.6           1.8        2\n",
       "66            3.0            4.5           1.5        1\n",
       "110           3.2            5.1           2.0        2\n",
       "142           2.7            5.1           1.9        2\n",
       "69            2.5            3.9           1.1        1\n",
       "2             3.2            1.3           0.2        0\n",
       "22            3.6            1.0           0.2        0\n",
       "51            3.2            4.5           1.5        1\n",
       "12            3.0            1.4           0.1        0\n",
       "11            3.4            1.6           0.2        0\n",
       "149           3.0            5.1           1.8        2\n",
       "75            3.0            4.4           1.4        1\n",
       "16            3.9            1.3           0.4        0\n",
       "85            3.4            4.5           1.6        1"
      ]
     },
     "execution_count": 41,
     "metadata": {},
     "output_type": "execute_result"
    }
   ],
   "source": [
    "x_test"
   ]
  },
  {
   "cell_type": "code",
   "execution_count": 42,
   "id": "fcd3664d",
   "metadata": {
    "scrolled": true
   },
   "outputs": [
    {
     "data": {
      "text/plain": [
       "0      5.1\n",
       "120    6.9\n",
       "122    7.7\n",
       "49     5.0\n",
       "29     4.7\n",
       "      ... \n",
       "76     6.8\n",
       "13     4.3\n",
       "81     5.5\n",
       "91     6.1\n",
       "80     5.5\n",
       "Name: SepalLengthCm, Length: 120, dtype: float64"
      ]
     },
     "execution_count": 42,
     "metadata": {},
     "output_type": "execute_result"
    }
   ],
   "source": [
    "y_train"
   ]
  },
  {
   "cell_type": "code",
   "execution_count": 43,
   "id": "16ffa8bb",
   "metadata": {
    "scrolled": true
   },
   "outputs": [
    {
     "data": {
      "text/plain": [
       "112    6.8\n",
       "145    6.7\n",
       "133    6.3\n",
       "56     6.3\n",
       "111    6.4\n",
       "9      4.9\n",
       "65     6.7\n",
       "15     5.7\n",
       "30     4.8\n",
       "63     6.1\n",
       "119    6.0\n",
       "62     6.0\n",
       "84     5.4\n",
       "113    5.7\n",
       "139    6.9\n",
       "41     4.5\n",
       "103    6.3\n",
       "66     5.6\n",
       "110    6.5\n",
       "142    5.8\n",
       "69     5.6\n",
       "2      4.7\n",
       "22     4.6\n",
       "51     6.4\n",
       "12     4.8\n",
       "11     4.8\n",
       "149    5.9\n",
       "75     6.6\n",
       "16     5.4\n",
       "85     6.0\n",
       "Name: SepalLengthCm, dtype: float64"
      ]
     },
     "execution_count": 43,
     "metadata": {},
     "output_type": "execute_result"
    }
   ],
   "source": [
    "y_test"
   ]
  },
  {
   "cell_type": "markdown",
   "id": "30b83d24",
   "metadata": {},
   "source": [
    "#### Instantiating Linar Regression Model"
   ]
  },
  {
   "cell_type": "code",
   "execution_count": 44,
   "id": "3c2146fa",
   "metadata": {},
   "outputs": [
    {
     "data": {
      "text/html": [
       "<style>#sk-container-id-1 {color: black;background-color: white;}#sk-container-id-1 pre{padding: 0;}#sk-container-id-1 div.sk-toggleable {background-color: white;}#sk-container-id-1 label.sk-toggleable__label {cursor: pointer;display: block;width: 100%;margin-bottom: 0;padding: 0.3em;box-sizing: border-box;text-align: center;}#sk-container-id-1 label.sk-toggleable__label-arrow:before {content: \"▸\";float: left;margin-right: 0.25em;color: #696969;}#sk-container-id-1 label.sk-toggleable__label-arrow:hover:before {color: black;}#sk-container-id-1 div.sk-estimator:hover label.sk-toggleable__label-arrow:before {color: black;}#sk-container-id-1 div.sk-toggleable__content {max-height: 0;max-width: 0;overflow: hidden;text-align: left;background-color: #f0f8ff;}#sk-container-id-1 div.sk-toggleable__content pre {margin: 0.2em;color: black;border-radius: 0.25em;background-color: #f0f8ff;}#sk-container-id-1 input.sk-toggleable__control:checked~div.sk-toggleable__content {max-height: 200px;max-width: 100%;overflow: auto;}#sk-container-id-1 input.sk-toggleable__control:checked~label.sk-toggleable__label-arrow:before {content: \"▾\";}#sk-container-id-1 div.sk-estimator input.sk-toggleable__control:checked~label.sk-toggleable__label {background-color: #d4ebff;}#sk-container-id-1 div.sk-label input.sk-toggleable__control:checked~label.sk-toggleable__label {background-color: #d4ebff;}#sk-container-id-1 input.sk-hidden--visually {border: 0;clip: rect(1px 1px 1px 1px);clip: rect(1px, 1px, 1px, 1px);height: 1px;margin: -1px;overflow: hidden;padding: 0;position: absolute;width: 1px;}#sk-container-id-1 div.sk-estimator {font-family: monospace;background-color: #f0f8ff;border: 1px dotted black;border-radius: 0.25em;box-sizing: border-box;margin-bottom: 0.5em;}#sk-container-id-1 div.sk-estimator:hover {background-color: #d4ebff;}#sk-container-id-1 div.sk-parallel-item::after {content: \"\";width: 100%;border-bottom: 1px solid gray;flex-grow: 1;}#sk-container-id-1 div.sk-label:hover label.sk-toggleable__label {background-color: #d4ebff;}#sk-container-id-1 div.sk-serial::before {content: \"\";position: absolute;border-left: 1px solid gray;box-sizing: border-box;top: 0;bottom: 0;left: 50%;z-index: 0;}#sk-container-id-1 div.sk-serial {display: flex;flex-direction: column;align-items: center;background-color: white;padding-right: 0.2em;padding-left: 0.2em;position: relative;}#sk-container-id-1 div.sk-item {position: relative;z-index: 1;}#sk-container-id-1 div.sk-parallel {display: flex;align-items: stretch;justify-content: center;background-color: white;position: relative;}#sk-container-id-1 div.sk-item::before, #sk-container-id-1 div.sk-parallel-item::before {content: \"\";position: absolute;border-left: 1px solid gray;box-sizing: border-box;top: 0;bottom: 0;left: 50%;z-index: -1;}#sk-container-id-1 div.sk-parallel-item {display: flex;flex-direction: column;z-index: 1;position: relative;background-color: white;}#sk-container-id-1 div.sk-parallel-item:first-child::after {align-self: flex-end;width: 50%;}#sk-container-id-1 div.sk-parallel-item:last-child::after {align-self: flex-start;width: 50%;}#sk-container-id-1 div.sk-parallel-item:only-child::after {width: 0;}#sk-container-id-1 div.sk-dashed-wrapped {border: 1px dashed gray;margin: 0 0.4em 0.5em 0.4em;box-sizing: border-box;padding-bottom: 0.4em;background-color: white;}#sk-container-id-1 div.sk-label label {font-family: monospace;font-weight: bold;display: inline-block;line-height: 1.2em;}#sk-container-id-1 div.sk-label-container {text-align: center;}#sk-container-id-1 div.sk-container {/* jupyter's `normalize.less` sets `[hidden] { display: none; }` but bootstrap.min.css set `[hidden] { display: none !important; }` so we also need the `!important` here to be able to override the default hidden behavior on the sphinx rendered scikit-learn.org. See: https://github.com/scikit-learn/scikit-learn/issues/21755 */display: inline-block !important;position: relative;}#sk-container-id-1 div.sk-text-repr-fallback {display: none;}</style><div id=\"sk-container-id-1\" class=\"sk-top-container\"><div class=\"sk-text-repr-fallback\"><pre>LinearRegression()</pre><b>In a Jupyter environment, please rerun this cell to show the HTML representation or trust the notebook. <br />On GitHub, the HTML representation is unable to render, please try loading this page with nbviewer.org.</b></div><div class=\"sk-container\" hidden><div class=\"sk-item\"><div class=\"sk-estimator sk-toggleable\"><input class=\"sk-toggleable__control sk-hidden--visually\" id=\"sk-estimator-id-1\" type=\"checkbox\" checked><label for=\"sk-estimator-id-1\" class=\"sk-toggleable__label sk-toggleable__label-arrow\">LinearRegression</label><div class=\"sk-toggleable__content\"><pre>LinearRegression()</pre></div></div></div></div></div>"
      ],
      "text/plain": [
       "LinearRegression()"
      ]
     },
     "execution_count": 44,
     "metadata": {},
     "output_type": "execute_result"
    }
   ],
   "source": [
    "# while importing we import class LinarRegression so we have to instantiate that\n",
    "\n",
    "linear_reg_model = LinearRegression()\n",
    "linear_reg_model"
   ]
  },
  {
   "cell_type": "markdown",
   "id": "b051d0a1",
   "metadata": {},
   "source": [
    "#### .fit   >> to tarin the model"
   ]
  },
  {
   "cell_type": "code",
   "execution_count": 45,
   "id": "c18b7d1e",
   "metadata": {},
   "outputs": [
    {
     "data": {
      "text/html": [
       "<style>#sk-container-id-2 {color: black;background-color: white;}#sk-container-id-2 pre{padding: 0;}#sk-container-id-2 div.sk-toggleable {background-color: white;}#sk-container-id-2 label.sk-toggleable__label {cursor: pointer;display: block;width: 100%;margin-bottom: 0;padding: 0.3em;box-sizing: border-box;text-align: center;}#sk-container-id-2 label.sk-toggleable__label-arrow:before {content: \"▸\";float: left;margin-right: 0.25em;color: #696969;}#sk-container-id-2 label.sk-toggleable__label-arrow:hover:before {color: black;}#sk-container-id-2 div.sk-estimator:hover label.sk-toggleable__label-arrow:before {color: black;}#sk-container-id-2 div.sk-toggleable__content {max-height: 0;max-width: 0;overflow: hidden;text-align: left;background-color: #f0f8ff;}#sk-container-id-2 div.sk-toggleable__content pre {margin: 0.2em;color: black;border-radius: 0.25em;background-color: #f0f8ff;}#sk-container-id-2 input.sk-toggleable__control:checked~div.sk-toggleable__content {max-height: 200px;max-width: 100%;overflow: auto;}#sk-container-id-2 input.sk-toggleable__control:checked~label.sk-toggleable__label-arrow:before {content: \"▾\";}#sk-container-id-2 div.sk-estimator input.sk-toggleable__control:checked~label.sk-toggleable__label {background-color: #d4ebff;}#sk-container-id-2 div.sk-label input.sk-toggleable__control:checked~label.sk-toggleable__label {background-color: #d4ebff;}#sk-container-id-2 input.sk-hidden--visually {border: 0;clip: rect(1px 1px 1px 1px);clip: rect(1px, 1px, 1px, 1px);height: 1px;margin: -1px;overflow: hidden;padding: 0;position: absolute;width: 1px;}#sk-container-id-2 div.sk-estimator {font-family: monospace;background-color: #f0f8ff;border: 1px dotted black;border-radius: 0.25em;box-sizing: border-box;margin-bottom: 0.5em;}#sk-container-id-2 div.sk-estimator:hover {background-color: #d4ebff;}#sk-container-id-2 div.sk-parallel-item::after {content: \"\";width: 100%;border-bottom: 1px solid gray;flex-grow: 1;}#sk-container-id-2 div.sk-label:hover label.sk-toggleable__label {background-color: #d4ebff;}#sk-container-id-2 div.sk-serial::before {content: \"\";position: absolute;border-left: 1px solid gray;box-sizing: border-box;top: 0;bottom: 0;left: 50%;z-index: 0;}#sk-container-id-2 div.sk-serial {display: flex;flex-direction: column;align-items: center;background-color: white;padding-right: 0.2em;padding-left: 0.2em;position: relative;}#sk-container-id-2 div.sk-item {position: relative;z-index: 1;}#sk-container-id-2 div.sk-parallel {display: flex;align-items: stretch;justify-content: center;background-color: white;position: relative;}#sk-container-id-2 div.sk-item::before, #sk-container-id-2 div.sk-parallel-item::before {content: \"\";position: absolute;border-left: 1px solid gray;box-sizing: border-box;top: 0;bottom: 0;left: 50%;z-index: -1;}#sk-container-id-2 div.sk-parallel-item {display: flex;flex-direction: column;z-index: 1;position: relative;background-color: white;}#sk-container-id-2 div.sk-parallel-item:first-child::after {align-self: flex-end;width: 50%;}#sk-container-id-2 div.sk-parallel-item:last-child::after {align-self: flex-start;width: 50%;}#sk-container-id-2 div.sk-parallel-item:only-child::after {width: 0;}#sk-container-id-2 div.sk-dashed-wrapped {border: 1px dashed gray;margin: 0 0.4em 0.5em 0.4em;box-sizing: border-box;padding-bottom: 0.4em;background-color: white;}#sk-container-id-2 div.sk-label label {font-family: monospace;font-weight: bold;display: inline-block;line-height: 1.2em;}#sk-container-id-2 div.sk-label-container {text-align: center;}#sk-container-id-2 div.sk-container {/* jupyter's `normalize.less` sets `[hidden] { display: none; }` but bootstrap.min.css set `[hidden] { display: none !important; }` so we also need the `!important` here to be able to override the default hidden behavior on the sphinx rendered scikit-learn.org. See: https://github.com/scikit-learn/scikit-learn/issues/21755 */display: inline-block !important;position: relative;}#sk-container-id-2 div.sk-text-repr-fallback {display: none;}</style><div id=\"sk-container-id-2\" class=\"sk-top-container\"><div class=\"sk-text-repr-fallback\"><pre>LinearRegression()</pre><b>In a Jupyter environment, please rerun this cell to show the HTML representation or trust the notebook. <br />On GitHub, the HTML representation is unable to render, please try loading this page with nbviewer.org.</b></div><div class=\"sk-container\" hidden><div class=\"sk-item\"><div class=\"sk-estimator sk-toggleable\"><input class=\"sk-toggleable__control sk-hidden--visually\" id=\"sk-estimator-id-2\" type=\"checkbox\" checked><label for=\"sk-estimator-id-2\" class=\"sk-toggleable__label sk-toggleable__label-arrow\">LinearRegression</label><div class=\"sk-toggleable__content\"><pre>LinearRegression()</pre></div></div></div></div></div>"
      ],
      "text/plain": [
       "LinearRegression()"
      ]
     },
     "execution_count": 45,
     "metadata": {},
     "output_type": "execute_result"
    }
   ],
   "source": [
    "linear_reg_model.fit(x_train, y_train)\n",
    "\n",
    "# in this backend Gradient Desencet working  >> Best M and c   .... Best Fit Line"
   ]
  },
  {
   "cell_type": "code",
   "execution_count": 46,
   "id": "b72de4e2",
   "metadata": {},
   "outputs": [
    {
     "ename": "NameError",
     "evalue": "name 'linear_model' is not defined",
     "output_type": "error",
     "traceback": [
      "\u001b[1;31m---------------------------------------------------------------------------\u001b[0m",
      "\u001b[1;31mNameError\u001b[0m                                 Traceback (most recent call last)",
      "Cell \u001b[1;32mIn[46], line 2\u001b[0m\n\u001b[0;32m      1\u001b[0m \u001b[38;5;28;01mwith\u001b[39;00m \u001b[38;5;28mopen\u001b[39m(\u001b[38;5;124m\"\u001b[39m\u001b[38;5;124mlinear_model.pkl\u001b[39m\u001b[38;5;124m\"\u001b[39m, \u001b[38;5;124m\"\u001b[39m\u001b[38;5;124mwb\u001b[39m\u001b[38;5;124m\"\u001b[39m) \u001b[38;5;28;01mas\u001b[39;00m file:\n\u001b[1;32m----> 2\u001b[0m     pickle\u001b[38;5;241m.\u001b[39mdump(\u001b[43mlinear_model\u001b[49m, file)\n",
      "\u001b[1;31mNameError\u001b[0m: name 'linear_model' is not defined"
     ]
    }
   ],
   "source": [
    "with open(\"linear_model.pkl\", \"wb\") as file:\n",
    "    pickle.dump(linear_model, file)"
   ]
  },
  {
   "cell_type": "code",
   "execution_count": null,
   "id": "2f38caad",
   "metadata": {},
   "outputs": [],
   "source": []
  },
  {
   "cell_type": "code",
   "execution_count": null,
   "id": "96724b87",
   "metadata": {},
   "outputs": [],
   "source": []
  },
  {
   "cell_type": "raw",
   "id": "73eec223",
   "metadata": {},
   "source": [
    "y = m1x1 + m2x2 + m3x3 + m4x4 + c"
   ]
  },
  {
   "cell_type": "code",
   "execution_count": null,
   "id": "6e98bd24",
   "metadata": {},
   "outputs": [],
   "source": [
    "linear_reg_model.intercept_   # c values"
   ]
  },
  {
   "cell_type": "code",
   "execution_count": null,
   "id": "de37852a",
   "metadata": {},
   "outputs": [],
   "source": [
    "linear_reg_model.coef_    # m values"
   ]
  },
  {
   "cell_type": "markdown",
   "id": "0da6a503",
   "metadata": {},
   "source": [
    "### Evaluation"
   ]
  },
  {
   "cell_type": "markdown",
   "id": "18c05d99",
   "metadata": {},
   "source": [
    "#### Residuals  >> Error"
   ]
  },
  {
   "cell_type": "raw",
   "id": "b426828e",
   "metadata": {},
   "source": [
    "Yactual - Ypred"
   ]
  },
  {
   "cell_type": "code",
   "execution_count": null,
   "id": "fbaa9e09",
   "metadata": {},
   "outputs": [],
   "source": [
    "y_pred_train = linear_reg_model.predict(x_train)\n",
    "y_pred_train\n",
    "\n",
    "# predict is function from linear regressiion which gives prediction for independent variable"
   ]
  },
  {
   "cell_type": "code",
   "execution_count": null,
   "id": "9a9191b4",
   "metadata": {},
   "outputs": [],
   "source": [
    "y_pred_train[:5]\n",
    "\n",
    "\n",
    "# this are predicated values of dependent variable"
   ]
  },
  {
   "cell_type": "code",
   "execution_count": null,
   "id": "e6215e70",
   "metadata": {},
   "outputs": [],
   "source": [
    "y_train[:5]\n",
    "# this is actual values of dependent variable"
   ]
  },
  {
   "cell_type": "code",
   "execution_count": null,
   "id": "242d8637",
   "metadata": {},
   "outputs": [],
   "source": [
    "residules_train = y_train - y_pred_train\n",
    "residules_train"
   ]
  },
  {
   "cell_type": "markdown",
   "id": "3a36869c",
   "metadata": {},
   "source": [
    "### 3. Normality of Residuals"
   ]
  },
  {
   "cell_type": "raw",
   "id": "233dd526",
   "metadata": {},
   "source": [
    "Residual should follows normal distribution (Gaussian Distribution)"
   ]
  },
  {
   "cell_type": "markdown",
   "id": "f43dc76b",
   "metadata": {},
   "source": [
    "### How to check Normality"
   ]
  },
  {
   "cell_type": "code",
   "execution_count": null,
   "id": "130f292f",
   "metadata": {},
   "outputs": [],
   "source": [
    "1. kdeplot/histrogram\n",
    "2. shapiro\n",
    "3. kstest\n",
    "4. normality\n",
    "5. QQ-plot\n",
    "\n",
    "\n",
    "\n",
    "kdeplot/histrogram and QQ-plot this test are used visualization\n",
    "\n",
    "shapiro, kstest, normality this test are used to give the values"
   ]
  },
  {
   "cell_type": "markdown",
   "id": "48193198",
   "metadata": {},
   "source": [
    "### 1.Kdeplot"
   ]
  },
  {
   "cell_type": "code",
   "execution_count": null,
   "id": "e3a5edad",
   "metadata": {},
   "outputs": [],
   "source": [
    "kde >>  kernel Density Estimate"
   ]
  },
  {
   "cell_type": "code",
   "execution_count": null,
   "id": "5c97d8d2",
   "metadata": {
    "scrolled": false
   },
   "outputs": [],
   "source": [
    "sns.kdeplot(residules_train)\n",
    "\n",
    "# this is normally distributed data "
   ]
  },
  {
   "cell_type": "code",
   "execution_count": null,
   "id": "673cc2ef",
   "metadata": {},
   "outputs": [],
   "source": [
    "import numpy as np\n",
    "array1 =  np.random.randn(100)\n",
    "sns.kdeplot(array1)"
   ]
  },
  {
   "cell_type": "code",
   "execution_count": null,
   "id": "e778f5f2",
   "metadata": {},
   "outputs": [],
   "source": [
    "sns.kdeplot(df[\"PetalLengthCm\"])\n",
    "\n",
    "# this is not normally distrubuted data "
   ]
  },
  {
   "cell_type": "code",
   "execution_count": null,
   "id": "7da20832",
   "metadata": {},
   "outputs": [],
   "source": [
    "# if you are not getting from graph that wether it is normally distributed data or not then use nd method"
   ]
  },
  {
   "cell_type": "markdown",
   "id": "961e5e05",
   "metadata": {},
   "source": [
    "### 2. Shapiro Test"
   ]
  },
  {
   "cell_type": "raw",
   "id": "d9e0e0b3",
   "metadata": {},
   "source": [
    "shapiro test means hypothesis test\n",
    "hypothesis test means we have to prove the result\n",
    "\n",
    "to check only wether data is normally distrubuted or not then we use Shapiro test"
   ]
  },
  {
   "cell_type": "raw",
   "id": "b145ed8e",
   "metadata": {},
   "source": [
    "Hypothesis test :\n",
    "     1. Null Hypothesis (HO)        >> India will win the match\n",
    "     2. Alternate Hypothesis (H1)   >> India will lose the match\n",
    "    \n",
    "    \n",
    "Null Hypothesis (HO)        --> data is Normally distributed\n",
    "Alternate Hypothesis (H1)   --> data is not normally distributed\n",
    "    \n",
    "    \n",
    "p_val  >= 0.05 : we are accepting Null Hypothesis\n",
    "p_val < 0.05  : we are accepting Alternate Hypothesis (Null Hypothesis is False)"
   ]
  },
  {
   "cell_type": "code",
   "execution_count": null,
   "id": "5cc80a94",
   "metadata": {},
   "outputs": [],
   "source": [
    "from scipy.stats import shapiro"
   ]
  },
  {
   "cell_type": "code",
   "execution_count": null,
   "id": "0bb25156",
   "metadata": {},
   "outputs": [],
   "source": [
    "statistics, p_val  = shapiro(array1)\n",
    "print(p_val)"
   ]
  },
  {
   "cell_type": "code",
   "execution_count": null,
   "id": "41ac492c",
   "metadata": {},
   "outputs": [],
   "source": [
    "if p_val >= 0.05:\n",
    "    print(\"Null Hypothesis is True\")\n",
    "    print(\"Data is normally distributed\")\n",
    "    \n",
    "else:\n",
    "    print(\"Alternate Hypothesis is True\")\n",
    "    print(\"Data is not normally distributed\")"
   ]
  },
  {
   "cell_type": "code",
   "execution_count": null,
   "id": "a20539a6",
   "metadata": {},
   "outputs": [],
   "source": [
    "statistics, p_val  = shapiro(residules_train)\n",
    "print(p_val)\n",
    "\n",
    "if p_val >= 0.05:\n",
    "    print(\"Null Hypothesis is True\")\n",
    "    print(\"Data is normally distributed\")\n",
    "    \n",
    "else:\n",
    "    print(\"Alternate Hypothesis is True\")\n",
    "    print(\"Data is not normally distributed\")"
   ]
  },
  {
   "cell_type": "markdown",
   "id": "e2b4df09",
   "metadata": {},
   "source": [
    "### 3. Kstest"
   ]
  },
  {
   "cell_type": "code",
   "execution_count": null,
   "id": "3d57cf8f",
   "metadata": {},
   "outputs": [],
   "source": [
    "Kolmogorov - Smirnov Test"
   ]
  },
  {
   "cell_type": "code",
   "execution_count": null,
   "id": "65e1a194",
   "metadata": {},
   "outputs": [],
   "source": [
    "from scipy.stats import kstest"
   ]
  },
  {
   "cell_type": "code",
   "execution_count": null,
   "id": "e2c0d8fd",
   "metadata": {},
   "outputs": [],
   "source": [
    "_ , p_val = kstest(array1, \"norm\")\n",
    "\n",
    "print(p_val)\n",
    "\n",
    "if p_val >= 0.05:\n",
    "    print(\"Null Hypothesis is True\")\n",
    "    print(\"Data is normally distributed\")\n",
    "    \n",
    "else:\n",
    "    print(\"Alternate Hypothesis is True\")\n",
    "    print(\"Data is not normally distributed\")"
   ]
  },
  {
   "cell_type": "code",
   "execution_count": null,
   "id": "78bdd4ac",
   "metadata": {},
   "outputs": [],
   "source": [
    "_ , p_val = kstest(residules_train, \"norm\")\n",
    "\n",
    "print(p_val)\n",
    "\n",
    "if p_val >= 0.05:\n",
    "    print(\"Null Hypothesis is True\")\n",
    "    print(\"Data is normally distributed\")\n",
    "    \n",
    "else:\n",
    "    print(\"Alternate Hypothesis is True\")\n",
    "    print(\"Data is not normally distributed\")"
   ]
  },
  {
   "cell_type": "markdown",
   "id": "92e71028",
   "metadata": {},
   "source": [
    "### 4. Normality Test"
   ]
  },
  {
   "cell_type": "code",
   "execution_count": null,
   "id": "2f08dab4",
   "metadata": {},
   "outputs": [],
   "source": [
    "from scipy.stats import normaltest"
   ]
  },
  {
   "cell_type": "code",
   "execution_count": null,
   "id": "75d8a5f4",
   "metadata": {},
   "outputs": [],
   "source": [
    "_ , p_val = normaltest(array1)\n",
    "\n",
    "print(p_val)\n",
    "\n",
    "if p_val >= 0.05:\n",
    "    print(\"Null Hypothesis is True\")\n",
    "    print(\"Data is normally distributed\")\n",
    "    \n",
    "else:\n",
    "    print(\"Alternate Hypothesis is True\")\n",
    "    print(\"Data is not normally distributed\")"
   ]
  },
  {
   "cell_type": "code",
   "execution_count": null,
   "id": "3ebb42b8",
   "metadata": {},
   "outputs": [],
   "source": [
    "_ , p_val = normaltest(residules_train)\n",
    "\n",
    "print(p_val)\n",
    "\n",
    "if p_val >= 0.05:\n",
    "    print(\"Null Hypothesis is True\")\n",
    "    print(\"Data is normally distributed\")\n",
    "    \n",
    "else:\n",
    "    print(\"Alternate Hypothesis is True\")\n",
    "    print(\"Data is not normally distributed\")"
   ]
  },
  {
   "cell_type": "markdown",
   "id": "105961bf",
   "metadata": {},
   "source": [
    "### 5. QQ-plot"
   ]
  },
  {
   "cell_type": "code",
   "execution_count": null,
   "id": "d8805286",
   "metadata": {},
   "outputs": [],
   "source": [
    "import scipy.stats as sts\n",
    "import statsmodels.api as sm"
   ]
  },
  {
   "cell_type": "code",
   "execution_count": null,
   "id": "1f62b202",
   "metadata": {},
   "outputs": [],
   "source": [
    "sm.qqplot(residules_train, line = \"45\", fit = True)"
   ]
  },
  {
   "cell_type": "code",
   "execution_count": null,
   "id": "004aca72",
   "metadata": {},
   "outputs": [],
   "source": [
    "sm.qqplot(array1, line = \"45\", fit = True)"
   ]
  },
  {
   "cell_type": "markdown",
   "id": "ebb72c2f",
   "metadata": {},
   "source": [
    "### 4. Homoscedescity"
   ]
  },
  {
   "cell_type": "code",
   "execution_count": null,
   "id": "41d941e0",
   "metadata": {},
   "outputs": [],
   "source": [
    "Assumption of equal variance:\n",
    "    1. Homoscedescitu means constanr error\n",
    "    2. Constant deviation from zero line\n",
    "    3. Dependent Variable vs Residual"
   ]
  },
  {
   "cell_type": "code",
   "execution_count": null,
   "id": "f08c365a",
   "metadata": {},
   "outputs": [],
   "source": [
    "sns.scatterplot(x = y_train, y = residules_train)"
   ]
  },
  {
   "cell_type": "markdown",
   "id": "8cbe32dd",
   "metadata": {},
   "source": [
    "### Evaluation od Training Data"
   ]
  },
  {
   "cell_type": "code",
   "execution_count": null,
   "id": "979ca00f",
   "metadata": {},
   "outputs": [],
   "source": [
    "# y_pred_train"
   ]
  },
  {
   "cell_type": "code",
   "execution_count": null,
   "id": "63efffae",
   "metadata": {},
   "outputs": [],
   "source": [
    "mse = mean_squared_error(y_train, y_pred_train)\n",
    "print(\"Mean Squared Error:\", mse)\n",
    "\n",
    "\n",
    "rmse = np.sqrt(mse)\n",
    "print(\"Root Mean Squared Error:\", rmse)\n",
    "\n",
    "mae = mean_absolute_error(y_train, y_pred_train)\n",
    "print(\"Mean Absolute Squared Error\", mae)\n",
    "\n",
    "r2_value = r2_score(y_train,y_pred_train)\n",
    "print(\"R-Squared Value:\", r2_value)"
   ]
  },
  {
   "cell_type": "markdown",
   "id": "cc1a8271",
   "metadata": {},
   "source": [
    "### Evaluation of Test Data"
   ]
  },
  {
   "cell_type": "code",
   "execution_count": null,
   "id": "329de05b",
   "metadata": {},
   "outputs": [],
   "source": [
    "y_pred_test = linear_reg_model.predict(x_test)\n",
    "y_pred_test"
   ]
  },
  {
   "cell_type": "code",
   "execution_count": null,
   "id": "3c8d90d5",
   "metadata": {},
   "outputs": [],
   "source": [
    "mse = mean_squared_error(y_test, y_pred_test)\n",
    "print(\"Mean Squared Error:\", mse)\n",
    "\n",
    "\n",
    "rmse = np.sqrt(mse)\n",
    "print(\"Root Mean Squared Error:\", rmse)\n",
    "\n",
    "mae = mean_absolute_error(y_test, y_pred_test)\n",
    "print(\"Mean Absolute Squared Error\", mae)\n",
    "\n",
    "r2_value = r2_score(y_test, y_pred_test)\n",
    "print(\"R-Squared Value:\", r2_value)"
   ]
  },
  {
   "cell_type": "code",
   "execution_count": null,
   "id": "8b9fa194",
   "metadata": {},
   "outputs": [],
   "source": [
    "training_data : 0.8774312820165381\n",
    "testing_data :  0.7716224861236041   "
   ]
  },
  {
   "cell_type": "code",
   "execution_count": null,
   "id": "fd0f4cb9",
   "metadata": {},
   "outputs": [],
   "source": [
    "0.8774312820165381 - 0.7716224861236041   "
   ]
  },
  {
   "cell_type": "code",
   "execution_count": null,
   "id": "87457649",
   "metadata": {},
   "outputs": [],
   "source": [
    "# overfiiting :\n",
    "0.8774312820165381 - 0.4716224861236041"
   ]
  },
  {
   "cell_type": "code",
   "execution_count": null,
   "id": "b68d75b0",
   "metadata": {},
   "outputs": [],
   "source": [
    "df.columns"
   ]
  },
  {
   "cell_type": "code",
   "execution_count": null,
   "id": "49f70a5c",
   "metadata": {},
   "outputs": [],
   "source": [
    "{'Iris-setosa' : 0, 'Iris-versicolor' : 1, 'Iris-virginica' : 2}"
   ]
  },
  {
   "cell_type": "code",
   "execution_count": null,
   "id": "bd494b33",
   "metadata": {},
   "outputs": [],
   "source": [
    "SepalWidthCm = 2.3\n",
    "PetalLengthCm = 4.4\n",
    "PetalWidthCm = 1.3\n",
    "Species = 'Iris-setosa'\n",
    "\n",
    "if Species == 'Iris-setosa':\n",
    "    Species = 0\n",
    "elif Species == 'Iris-versicolor':\n",
    "    Species = 1\n",
    "elif Species == 'Iris-virginica':\n",
    "    Species = 2"
   ]
  },
  {
   "cell_type": "code",
   "execution_count": null,
   "id": "a1bb4f63",
   "metadata": {},
   "outputs": [],
   "source": [
    "df_test = pd.DataFrame({\"SepalWidthCm\" : [SepalWidthCm], \"PetalLengthCm\" : [PetalLengthCm],\n",
    "                        \"PetalWidthCm\" : [PetalWidthCm], \"Species\" : [Species]})"
   ]
  },
  {
   "cell_type": "code",
   "execution_count": null,
   "id": "f0d807b9",
   "metadata": {},
   "outputs": [],
   "source": [
    "df_test"
   ]
  },
  {
   "cell_type": "code",
   "execution_count": null,
   "id": "0fabe0da",
   "metadata": {},
   "outputs": [],
   "source": [
    "test_pred = linear_reg_model.predict(df_test)\n",
    "test_pred"
   ]
  },
  {
   "cell_type": "code",
   "execution_count": null,
   "id": "683e355f",
   "metadata": {},
   "outputs": [],
   "source": []
  }
 ],
 "metadata": {
  "kernelspec": {
   "display_name": "Python 3 (ipykernel)",
   "language": "python",
   "name": "python3"
  },
  "language_info": {
   "codemirror_mode": {
    "name": "ipython",
    "version": 3
   },
   "file_extension": ".py",
   "mimetype": "text/x-python",
   "name": "python",
   "nbconvert_exporter": "python",
   "pygments_lexer": "ipython3",
   "version": "3.10.2"
  }
 },
 "nbformat": 4,
 "nbformat_minor": 5
}
