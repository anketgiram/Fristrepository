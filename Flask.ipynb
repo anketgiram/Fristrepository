{
 "cells": [
  {
   "cell_type": "markdown",
   "id": "b20e7db2",
   "metadata": {},
   "source": [
    "### Flask Web Framework"
   ]
  },
  {
   "cell_type": "code",
   "execution_count": null,
   "id": "3e5ecc22",
   "metadata": {},
   "outputs": [],
   "source": [
    "Model >>  Input Data >> Deployed Model >> Prediction"
   ]
  },
  {
   "cell_type": "code",
   "execution_count": null,
   "id": "9b5ca960",
   "metadata": {},
   "outputs": [],
   "source": [
    "API >> Application Programing Interface"
   ]
  },
  {
   "cell_type": "code",
   "execution_count": null,
   "id": "078635b8",
   "metadata": {},
   "outputs": [],
   "source": [
    "from flask import Flask"
   ]
  },
  {
   "cell_type": "code",
   "execution_count": null,
   "id": "76548919",
   "metadata": {},
   "outputs": [],
   "source": [
    "app = flask(_name_)"
   ]
  },
  {
   "cell_type": "markdown",
   "id": "ea2afd81",
   "metadata": {},
   "source": [
    "### route()"
   ]
  },
  {
   "cell_type": "code",
   "execution_count": null,
   "id": "f8158317",
   "metadata": {},
   "outputs": [],
   "source": [
    "app.rotue(rule, options)  # rule >> url"
   ]
  },
  {
   "cell_type": "markdown",
   "id": "34992ca2",
   "metadata": {},
   "source": [
    "### run()"
   ]
  },
  {
   "cell_type": "code",
   "execution_count": null,
   "id": "e98d4eca",
   "metadata": {},
   "outputs": [],
   "source": [
    "app.run(host, port, debug, options)"
   ]
  },
  {
   "cell_type": "code",
   "execution_count": null,
   "id": "795fe027",
   "metadata": {},
   "outputs": [],
   "source": [
    "1. host : default >>  127.0.0.1   is Ip address of local host\n",
    "                  >> external IP address : host = \"0.0.0.0\"\n",
    "2. port : 1) default port : 5000\n",
    "          2) external port : 5012/ availaeble port\n",
    "3. debug : 1) default = Flase\n",
    "    "
   ]
  },
  {
   "cell_type": "code",
   "execution_count": null,
   "id": "e833389d",
   "metadata": {},
   "outputs": [],
   "source": [
    "if __name__ == \"__main__\":\n",
    "    app.run()"
   ]
  },
  {
   "cell_type": "markdown",
   "id": "97301585",
   "metadata": {},
   "source": [
    "### HTTP Methods"
   ]
  },
  {
   "cell_type": "code",
   "execution_count": null,
   "id": "c8f8968f",
   "metadata": {},
   "outputs": [],
   "source": [
    "1. GET : It is default method\n",
    "         It send the data in encrypted from\n",
    "         Here the server rembers the data received by it i.e data is cached by the server\n",
    "            \n",
    "2. Post : Data that the server receives by post method is not cached\n",
    "          Post data is not retained by the server\n",
    "          Data is send in encrypted from"
   ]
  },
  {
   "cell_type": "code",
   "execution_count": null,
   "id": "d262795e",
   "metadata": {},
   "outputs": [],
   "source": [
    ">>> ctrl + C == to stop the server "
   ]
  },
  {
   "cell_type": "markdown",
   "id": "79461452",
   "metadata": {},
   "source": [
    "### Request"
   ]
  },
  {
   "cell_type": "code",
   "execution_count": null,
   "id": "4b9ad78c",
   "metadata": {},
   "outputs": [],
   "source": [
    "get_json >>to get the request in json formate from user"
   ]
  },
  {
   "cell_type": "code",
   "execution_count": null,
   "id": "cfdcaec5",
   "metadata": {},
   "outputs": [],
   "source": []
  },
  {
   "cell_type": "code",
   "execution_count": null,
   "id": "7367a2d0",
   "metadata": {},
   "outputs": [],
   "source": []
  },
  {
   "cell_type": "code",
   "execution_count": null,
   "id": "97bf3537",
   "metadata": {},
   "outputs": [],
   "source": []
  }
 ],
 "metadata": {
  "kernelspec": {
   "display_name": "Python 3 (ipykernel)",
   "language": "python",
   "name": "python3"
  },
  "language_info": {
   "codemirror_mode": {
    "name": "ipython",
    "version": 3
   },
   "file_extension": ".py",
   "mimetype": "text/x-python",
   "name": "python",
   "nbconvert_exporter": "python",
   "pygments_lexer": "ipython3",
   "version": "3.10.2"
  }
 },
 "nbformat": 4,
 "nbformat_minor": 5
}
